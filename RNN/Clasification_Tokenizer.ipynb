{
  "nbformat": 4,
  "nbformat_minor": 0,
  "metadata": {
    "colab": {
      "name": "Clasification_Tokenizer.ipynb",
      "provenance": []
    },
    "kernelspec": {
      "name": "python3",
      "display_name": "Python 3"
    }
  },
  "cells": [
    {
      "cell_type": "code",
      "metadata": {
        "id": "boxSQBICKO6K"
      },
      "source": [
        "# Run this to ensure TensorFlow 2.x is used\r\n",
        "try:\r\n",
        "  # %tensorflow_version only exists in Colab.\r\n",
        "  %tensorflow_version 2.x\r\n",
        "except Exception:\r\n",
        "  pass"
      ],
      "execution_count": 1,
      "outputs": []
    },
    {
      "cell_type": "code",
      "metadata": {
        "id": "HH93tvX-KUzH"
      },
      "source": [
        "import json\r\n",
        "import tensorflow as tf\r\n",
        "\r\n",
        "from tensorflow.keras.preprocessing.text import Tokenizer\r\n",
        "from tensorflow.keras.preprocessing.sequence import pad_sequences"
      ],
      "execution_count": 2,
      "outputs": []
    },
    {
      "cell_type": "code",
      "metadata": {
        "id": "OreNwVfpK1lG"
      },
      "source": [
        "vocab_size = 10000\r\n",
        "embedding_dim = 16\r\n",
        "max_length = 100\r\n",
        "trunc_type='post'\r\n",
        "padding_type='post'\r\n",
        "oov_tok = \"<OOV>\"\r\n",
        "training_size = 20000"
      ],
      "execution_count": 4,
      "outputs": []
    },
    {
      "cell_type": "code",
      "metadata": {
        "colab": {
          "base_uri": "https://localhost:8080/"
        },
        "id": "K20O3xksK255",
        "outputId": "50615f57-442a-4a32-f56d-f5db3e4700ed"
      },
      "source": [
        "!wget --no-check-certificate \\\r\n",
        "    https://storage.googleapis.com/laurencemoroney-blog.appspot.com/sarcasm.json \\\r\n",
        "    -O /tmp/sarcasm.json\r\n"
      ],
      "execution_count": 5,
      "outputs": [
        {
          "output_type": "stream",
          "text": [
            "--2021-01-18 06:25:32--  https://storage.googleapis.com/laurencemoroney-blog.appspot.com/sarcasm.json\n",
            "Resolving storage.googleapis.com (storage.googleapis.com)... 173.194.216.128, 173.194.217.128, 173.194.218.128, ...\n",
            "Connecting to storage.googleapis.com (storage.googleapis.com)|173.194.216.128|:443... connected.\n",
            "HTTP request sent, awaiting response... 200 OK\n",
            "Length: 5643545 (5.4M) [application/json]\n",
            "Saving to: ‘/tmp/sarcasm.json’\n",
            "\n",
            "\r/tmp/sarcasm.json     0%[                    ]       0  --.-KB/s               \r/tmp/sarcasm.json   100%[===================>]   5.38M  --.-KB/s    in 0.06s   \n",
            "\n",
            "2021-01-18 06:25:32 (95.4 MB/s) - ‘/tmp/sarcasm.json’ saved [5643545/5643545]\n",
            "\n"
          ],
          "name": "stdout"
        }
      ]
    },
    {
      "cell_type": "code",
      "metadata": {
        "id": "ptv0JopXK49E"
      },
      "source": [
        "with open(\"/tmp/sarcasm.json\", 'r') as f:\r\n",
        "    datastore = json.load(f)\r\n",
        "\r\n",
        "sentences = []\r\n",
        "labels = []\r\n",
        "\r\n",
        "for item in datastore:\r\n",
        "    sentences.append(item['headline'])\r\n",
        "    labels.append(item['is_sarcastic'])"
      ],
      "execution_count": 6,
      "outputs": []
    },
    {
      "cell_type": "code",
      "metadata": {
        "id": "maO0QSnkLION"
      },
      "source": [
        "training_sentences = sentences[0:training_size]\r\n",
        "testing_sentences = sentences[training_size:]\r\n",
        "training_labels = labels[0:training_size]\r\n",
        "testing_labels = labels[training_size:]"
      ],
      "execution_count": 7,
      "outputs": []
    },
    {
      "cell_type": "code",
      "metadata": {
        "id": "lMxb3HynLJk_"
      },
      "source": [
        "tokenizer = Tokenizer(num_words=vocab_size, oov_token=oov_tok)\r\n",
        "tokenizer.fit_on_texts(training_sentences)\r\n",
        "\r\n",
        "word_index = tokenizer.word_index\r\n",
        "\r\n",
        "training_sequences = tokenizer.texts_to_sequences(training_sentences)\r\n",
        "training_padded = pad_sequences(training_sequences, maxlen=max_length, padding=padding_type, truncating=trunc_type)\r\n",
        "\r\n",
        "testing_sequences = tokenizer.texts_to_sequences(testing_sentences)\r\n",
        "testing_padded = pad_sequences(testing_sequences, maxlen=max_length, padding=padding_type, truncating=trunc_type)"
      ],
      "execution_count": 8,
      "outputs": []
    },
    {
      "cell_type": "code",
      "metadata": {
        "id": "cuqIL92pLLEb"
      },
      "source": [
        "# Need this block to get it to work with TensorFlow 2.x\r\n",
        "import numpy as np\r\n",
        "training_padded = np.array(training_padded)\r\n",
        "training_labels = np.array(training_labels)\r\n",
        "testing_padded = np.array(testing_padded)\r\n",
        "testing_labels = np.array(testing_labels)"
      ],
      "execution_count": 9,
      "outputs": []
    },
    {
      "cell_type": "code",
      "metadata": {
        "id": "o54DikUbLL-l"
      },
      "source": [
        "model = tf.keras.Sequential([\r\n",
        "    tf.keras.layers.Embedding(vocab_size, embedding_dim, input_length=max_length),\r\n",
        "    tf.keras.layers.GlobalAveragePooling1D(),\r\n",
        "    tf.keras.layers.Dense(24, activation='relu'),\r\n",
        "    tf.keras.layers.Dense(1, activation='sigmoid')\r\n",
        "])\r\n",
        "model.compile(loss='binary_crossentropy',optimizer='adam',metrics=['accuracy'])"
      ],
      "execution_count": 10,
      "outputs": []
    },
    {
      "cell_type": "code",
      "metadata": {
        "colab": {
          "base_uri": "https://localhost:8080/"
        },
        "id": "cEoTGIltLZ9_",
        "outputId": "0ac05336-b85b-4cee-8e24-cc7988cf0d8f"
      },
      "source": [
        "model.summary()"
      ],
      "execution_count": 11,
      "outputs": [
        {
          "output_type": "stream",
          "text": [
            "Model: \"sequential\"\n",
            "_________________________________________________________________\n",
            "Layer (type)                 Output Shape              Param #   \n",
            "=================================================================\n",
            "embedding (Embedding)        (None, 100, 16)           160000    \n",
            "_________________________________________________________________\n",
            "global_average_pooling1d (Gl (None, 16)                0         \n",
            "_________________________________________________________________\n",
            "dense (Dense)                (None, 24)                408       \n",
            "_________________________________________________________________\n",
            "dense_1 (Dense)              (None, 1)                 25        \n",
            "=================================================================\n",
            "Total params: 160,433\n",
            "Trainable params: 160,433\n",
            "Non-trainable params: 0\n",
            "_________________________________________________________________\n"
          ],
          "name": "stdout"
        }
      ]
    },
    {
      "cell_type": "code",
      "metadata": {
        "colab": {
          "base_uri": "https://localhost:8080/"
        },
        "id": "GnfSPjD5Lbpg",
        "outputId": "9483d713-2c80-4cb3-f400-302e189fcb56"
      },
      "source": [
        "num_epochs = 30\r\n",
        "history = model.fit(training_padded, training_labels, epochs=num_epochs, validation_data=(testing_padded, testing_labels), verbose=2)"
      ],
      "execution_count": 12,
      "outputs": [
        {
          "output_type": "stream",
          "text": [
            "Epoch 1/30\n",
            "625/625 - 3s - loss: 0.6704 - accuracy: 0.5787 - val_loss: 0.5983 - val_accuracy: 0.7819\n",
            "Epoch 2/30\n",
            "625/625 - 2s - loss: 0.4381 - accuracy: 0.8219 - val_loss: 0.3831 - val_accuracy: 0.8390\n",
            "Epoch 3/30\n",
            "625/625 - 2s - loss: 0.3100 - accuracy: 0.8766 - val_loss: 0.3591 - val_accuracy: 0.8438\n",
            "Epoch 4/30\n",
            "625/625 - 2s - loss: 0.2590 - accuracy: 0.8988 - val_loss: 0.3648 - val_accuracy: 0.8359\n",
            "Epoch 5/30\n",
            "625/625 - 2s - loss: 0.2242 - accuracy: 0.9123 - val_loss: 0.3416 - val_accuracy: 0.8568\n",
            "Epoch 6/30\n",
            "625/625 - 2s - loss: 0.1970 - accuracy: 0.9247 - val_loss: 0.3890 - val_accuracy: 0.8334\n",
            "Epoch 7/30\n",
            "625/625 - 2s - loss: 0.1755 - accuracy: 0.9341 - val_loss: 0.3827 - val_accuracy: 0.8427\n",
            "Epoch 8/30\n",
            "625/625 - 2s - loss: 0.1556 - accuracy: 0.9442 - val_loss: 0.3837 - val_accuracy: 0.8486\n",
            "Epoch 9/30\n",
            "625/625 - 2s - loss: 0.1418 - accuracy: 0.9472 - val_loss: 0.3988 - val_accuracy: 0.8477\n",
            "Epoch 10/30\n",
            "625/625 - 2s - loss: 0.1285 - accuracy: 0.9538 - val_loss: 0.4142 - val_accuracy: 0.8475\n",
            "Epoch 11/30\n",
            "625/625 - 2s - loss: 0.1156 - accuracy: 0.9597 - val_loss: 0.4361 - val_accuracy: 0.8480\n",
            "Epoch 12/30\n",
            "625/625 - 2s - loss: 0.1070 - accuracy: 0.9641 - val_loss: 0.4568 - val_accuracy: 0.8471\n",
            "Epoch 13/30\n",
            "625/625 - 2s - loss: 0.0979 - accuracy: 0.9669 - val_loss: 0.4984 - val_accuracy: 0.8368\n",
            "Epoch 14/30\n",
            "625/625 - 2s - loss: 0.0880 - accuracy: 0.9702 - val_loss: 0.5164 - val_accuracy: 0.8368\n",
            "Epoch 15/30\n",
            "625/625 - 2s - loss: 0.0827 - accuracy: 0.9717 - val_loss: 0.5366 - val_accuracy: 0.8368\n",
            "Epoch 16/30\n",
            "625/625 - 2s - loss: 0.0745 - accuracy: 0.9772 - val_loss: 0.5835 - val_accuracy: 0.8305\n",
            "Epoch 17/30\n",
            "625/625 - 2s - loss: 0.0688 - accuracy: 0.9772 - val_loss: 0.6037 - val_accuracy: 0.8320\n",
            "Epoch 18/30\n",
            "625/625 - 2s - loss: 0.0631 - accuracy: 0.9796 - val_loss: 0.6210 - val_accuracy: 0.8341\n",
            "Epoch 19/30\n",
            "625/625 - 2s - loss: 0.0583 - accuracy: 0.9820 - val_loss: 0.6549 - val_accuracy: 0.8278\n",
            "Epoch 20/30\n",
            "625/625 - 2s - loss: 0.0555 - accuracy: 0.9826 - val_loss: 0.6831 - val_accuracy: 0.8296\n",
            "Epoch 21/30\n",
            "625/625 - 2s - loss: 0.0487 - accuracy: 0.9854 - val_loss: 0.7218 - val_accuracy: 0.8240\n",
            "Epoch 22/30\n",
            "625/625 - 2s - loss: 0.0457 - accuracy: 0.9864 - val_loss: 0.7496 - val_accuracy: 0.8258\n",
            "Epoch 23/30\n",
            "625/625 - 2s - loss: 0.0418 - accuracy: 0.9878 - val_loss: 0.7819 - val_accuracy: 0.8210\n",
            "Epoch 24/30\n",
            "625/625 - 2s - loss: 0.0386 - accuracy: 0.9882 - val_loss: 0.8257 - val_accuracy: 0.8222\n",
            "Epoch 25/30\n",
            "625/625 - 2s - loss: 0.0368 - accuracy: 0.9890 - val_loss: 0.8521 - val_accuracy: 0.8199\n",
            "Epoch 26/30\n",
            "625/625 - 2s - loss: 0.0333 - accuracy: 0.9901 - val_loss: 0.8974 - val_accuracy: 0.8183\n",
            "Epoch 27/30\n",
            "625/625 - 2s - loss: 0.0308 - accuracy: 0.9913 - val_loss: 0.9303 - val_accuracy: 0.8171\n",
            "Epoch 28/30\n",
            "625/625 - 2s - loss: 0.0285 - accuracy: 0.9917 - val_loss: 0.9495 - val_accuracy: 0.8155\n",
            "Epoch 29/30\n",
            "625/625 - 2s - loss: 0.0265 - accuracy: 0.9922 - val_loss: 1.0054 - val_accuracy: 0.8123\n",
            "Epoch 30/30\n",
            "625/625 - 2s - loss: 0.0253 - accuracy: 0.9928 - val_loss: 1.0531 - val_accuracy: 0.8098\n"
          ],
          "name": "stdout"
        }
      ]
    },
    {
      "cell_type": "code",
      "metadata": {
        "colab": {
          "base_uri": "https://localhost:8080/",
          "height": 541
        },
        "id": "-4TTbveuLeDr",
        "outputId": "396086b1-8bde-4375-8f97-2b3b5c524d3f"
      },
      "source": [
        "import matplotlib.pyplot as plt\r\n",
        "\r\n",
        "\r\n",
        "def plot_graphs(history, string):\r\n",
        "  plt.plot(history.history[string])\r\n",
        "  plt.plot(history.history['val_'+string])\r\n",
        "  plt.xlabel(\"Epochs\")\r\n",
        "  plt.ylabel(string)\r\n",
        "  plt.legend([string, 'val_'+string])\r\n",
        "  plt.show()\r\n",
        "  \r\n",
        "plot_graphs(history, \"accuracy\")\r\n",
        "plot_graphs(history, \"loss\")"
      ],
      "execution_count": 13,
      "outputs": [
        {
          "output_type": "display_data",
          "data": {
            "image/png": "[encoded data removed]",
            "text/plain": [
              "<Figure size 432x288 with 1 Axes>"
            ]
          },
          "metadata": {
            "tags": [],
            "needs_background": "light"
          }
        },
        {
          "output_type": "display_data",
          "data": {
            "image/png": "[encoded data removed]",
            "text/plain": [
              "<Figure size 432x288 with 1 Axes>"
            ]
          },
          "metadata": {
            "tags": [],
            "needs_background": "light"
          }
        }
      ]
    },
    {
      "cell_type": "code",
      "metadata": {
        "colab": {
          "base_uri": "https://localhost:8080/"
        },
        "id": "lMx4hxZqLsx3",
        "outputId": "b6cde251-7226-4ada-a696-bc3bedb7ef64"
      },
      "source": [
        "reverse_word_index = dict([(value, key) for (key, value) in word_index.items()])\r\n",
        "\r\n",
        "def decode_sentence(text):\r\n",
        "    return ' '.join([reverse_word_index.get(i, '?') for i in text])\r\n",
        "\r\n",
        "print(decode_sentence(training_padded[0]))\r\n",
        "print(training_sentences[2])\r\n",
        "print(labels[2])"
      ],
      "execution_count": 14,
      "outputs": [
        {
          "output_type": "stream",
          "text": [
            "former <OOV> store clerk sues over secret 'black <OOV> for minority shoppers ? ? ? ? ? ? ? ? ? ? ? ? ? ? ? ? ? ? ? ? ? ? ? ? ? ? ? ? ? ? ? ? ? ? ? ? ? ? ? ? ? ? ? ? ? ? ? ? ? ? ? ? ? ? ? ? ? ? ? ? ? ? ? ? ? ? ? ? ? ? ? ? ? ? ? ? ? ? ? ? ? ? ? ? ? ? ? ?\n",
            "mom starting to fear son's web series closest thing she will have to grandchild\n",
            "1\n"
          ],
          "name": "stdout"
        }
      ]
    },
    {
      "cell_type": "code",
      "metadata": {
        "colab": {
          "base_uri": "https://localhost:8080/"
        },
        "id": "Qek6QGaDLxR8",
        "outputId": "5ac160b6-d7e3-4961-96df-0279505fda04"
      },
      "source": [
        "e = model.layers[0]\r\n",
        "weights = e.get_weights()[0]\r\n",
        "print(weights.shape) # shape: (vocab_size, embedding_dim)\r\n"
      ],
      "execution_count": 15,
      "outputs": [
        {
          "output_type": "stream",
          "text": [
            "(10000, 16)\n"
          ],
          "name": "stdout"
        }
      ]
    },
    {
      "cell_type": "code",
      "metadata": {
        "colab": {
          "base_uri": "https://localhost:8080/"
        },
        "id": "Kv4T_JJvLzra",
        "outputId": "afb1fd76-09cd-41d6-fccc-af84ebd20096"
      },
      "source": [
        "sentence = [\"granny starting to fear spiders in the garden might be real\", \"game of thrones season finale showing this sunday night\"]\r\n",
        "sequences = tokenizer.texts_to_sequences(sentence)\r\n",
        "padded = pad_sequences(sequences, maxlen=max_length, padding=padding_type, truncating=trunc_type)\r\n",
        "print(model.predict(padded))"
      ],
      "execution_count": 16,
      "outputs": [
        {
          "output_type": "stream",
          "text": [
            "[[8.8247776e-01]\n",
            " [4.2477950e-05]]\n"
          ],
          "name": "stdout"
        }
      ]
    }
  ]
}