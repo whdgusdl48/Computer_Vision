{
  "nbformat": 4,
  "nbformat_minor": 0,
  "metadata": {
    "colab": {
      "name": "cnn_classification.ipynb",
      "provenance": []
    },
    "kernelspec": {
      "name": "python3",
      "display_name": "Python 3"
    }
  },
  "cells": [
    {
      "cell_type": "code",
      "metadata": {
        "id": "rAYu_t2wx24X"
      },
      "source": [
        "# ATTENTION: Please do not alter any of the provided code in the exercise. Only add your own code where indicated\r\n",
        "# ATTENTION: Please do not add or remove any cells in the exercise. The grader will check specific cells based on the cell position.\r\n",
        "# ATTENTION: Please use the provided epoch values when training.\r\n",
        "\r\n",
        "# In this exercise you will train a CNN on the FULL Cats-v-dogs dataset\r\n",
        "# This will require you doing a lot of data preprocessing because\r\n",
        "# the dataset isn't split into training and validation for you\r\n",
        "# This code block has all the required inputs\r\n",
        "import os\r\n",
        "import zipfile\r\n",
        "import random\r\n",
        "import shutil\r\n",
        "import tensorflow as tf\r\n",
        "from tensorflow.keras.optimizers import RMSprop\r\n",
        "from tensorflow.keras.preprocessing.image import ImageDataGenerator\r\n",
        "from shutil import copyfile\r\n",
        "from os import getcwd"
      ],
      "execution_count": null,
      "outputs": []
    },
    {
      "cell_type": "code",
      "metadata": {
        "id": "pzGvAT8Lx9n_"
      },
      "source": [
        "# This code block unzips the full Cats-v-Dogs dataset to /tmp\r\n",
        "# which will create a tmp/PetImages directory containing subdirectories\r\n",
        "# called 'Cat' and 'Dog' (that's how the original researchers structured it)\r\n",
        "path_cats_and_dogs = f\"{getcwd()}/../tmp2/cats-and-dogs.zip\"\r\n",
        "shutil.rmtree('/tmp')\r\n",
        "\r\n",
        "local_zip = path_cats_and_dogs\r\n",
        "zip_ref = zipfile.ZipFile(local_zip, 'r')\r\n",
        "zip_ref.extractall('/tmp')\r\n",
        "zip_ref.close()"
      ],
      "execution_count": null,
      "outputs": []
    },
    {
      "cell_type": "code",
      "metadata": {
        "id": "5IQ1x04Mx-pb"
      },
      "source": [
        "print(len(os.listdir('/tmp/PetImages/Cat/')))\r\n",
        "print(len(os.listdir('/tmp/PetImages/Dog/')))\r\n",
        "\r\n",
        "# Expected Output:\r\n",
        "# 1500\r\n",
        "# 1500"
      ],
      "execution_count": null,
      "outputs": []
    },
    {
      "cell_type": "code",
      "metadata": {
        "id": "RXVTYpnlx_Tr"
      },
      "source": [
        "# Use os.mkdir to create your directories\r\n",
        "# You will need a directory for cats-v-dogs, and subdirectories for training\r\n",
        "# and testing. These in turn will need subdirectories for 'cats' and 'dogs'\r\n",
        "try:\r\n",
        "    #YOUR CODE GOES HERE\r\n",
        "    os.mkdir('/tmp/cats-v-dogs')\r\n",
        "    os.mkdir('/tmp/cats-v-dogs/training')\r\n",
        "    os.mkdir('/tmp/cats-v-dogs/testing')\r\n",
        "    os.mkdir('/tmp/cats-v-dogs/training/cats')\r\n",
        "    os.mkdir('/tmp/cats-v-dogs/training/dogs')\r\n",
        "    os.mkdir('/tmp/cats-v-dogs/testing/cats')\r\n",
        "    os.mkdir('/tmp/cats-v-dogs/testing/dogs')\r\n",
        "except OSError:\r\n",
        "    pass"
      ],
      "execution_count": null,
      "outputs": []
    },
    {
      "cell_type": "code",
      "metadata": {
        "id": "fDMlxtQzyALc"
      },
      "source": [
        "# Write a python function called split_data which takes\r\n",
        "# a SOURCE directory containing the files\r\n",
        "# a TRAINING directory that a portion of the files will be copied to\r\n",
        "# a TESTING directory that a portion of the files will be copie to\r\n",
        "# a SPLIT SIZE to determine the portion\r\n",
        "# The files should also be randomized, so that the training set is a random\r\n",
        "# X% of the files, and the test set is the remaining files\r\n",
        "# SO, for example, if SOURCE is PetImages/Cat, and SPLIT SIZE is .9\r\n",
        "# Then 90% of the images in PetImages/Cat will be copied to the TRAINING dir\r\n",
        "# and 10% of the images will be copied to the TESTING dir\r\n",
        "# Also -- All images should be checked, and if they have a zero file length,\r\n",
        "# they will not be copied over\r\n",
        "#\r\n",
        "# os.listdir(DIRECTORY) gives you a listing of the contents of that directory\r\n",
        "# os.path.getsize(PATH) gives you the size of the file\r\n",
        "# copyfile(source, destination) copies a file from source to destination\r\n",
        "# random.sample(list, len(list)) shuffles a list\r\n",
        "def split_data(SOURCE, TRAINING, TESTING, SPLIT_SIZE):\r\n",
        "# YOUR CODE STARTS HERE\r\n",
        "# YOUR CODE ENDS HERE\r\n",
        "    files = []\r\n",
        "    for i in os.listdir(SOURCE):\r\n",
        "        file = SOURCE + i\r\n",
        "#         print(file)\r\n",
        "        if os.path.getsize(file) > 0:\r\n",
        "#             print(1)\r\n",
        "            files.append(i)\r\n",
        "        else:\r\n",
        "            print('fail')\r\n",
        "    training_length = int(len(files) * SPLIT_SIZE)\r\n",
        "    testing_length = int(len(files) - training_length)\r\n",
        "    shuffled_test = random.sample(files,len(files))\r\n",
        "    training_set = shuffled_test[0:training_length]\r\n",
        "    testing_set = shuffled_test[:testing_length]\r\n",
        "    \r\n",
        "    for filename in training_set:\r\n",
        "        this_file = SOURCE + filename\r\n",
        "        destination = TRAINING + filename\r\n",
        "        copyfile(this_file, destination)\r\n",
        "\r\n",
        "    for filename in testing_set:\r\n",
        "        this_file = SOURCE + filename\r\n",
        "        destination = TESTING + filename\r\n",
        "        copyfile(this_file, destination)\r\n",
        "\r\n",
        "CAT_SOURCE_DIR = \"/tmp/PetImages/Cat/\"\r\n",
        "TRAINING_CATS_DIR = \"/tmp/cats-v-dogs/training/cats/\"\r\n",
        "TESTING_CATS_DIR = \"/tmp/cats-v-dogs/testing/cats/\"\r\n",
        "DOG_SOURCE_DIR = \"/tmp/PetImages/Dog/\"\r\n",
        "TRAINING_DOGS_DIR = \"/tmp/cats-v-dogs/training/dogs/\"\r\n",
        "TESTING_DOGS_DIR = \"/tmp/cats-v-dogs/testing/dogs/\"\r\n",
        "\r\n",
        "split_size = .9\r\n",
        "split_data(CAT_SOURCE_DIR, TRAINING_CATS_DIR, TESTING_CATS_DIR, split_size)\r\n",
        "split_data(DOG_SOURCE_DIR, TRAINING_DOGS_DIR, TESTING_DOGS_DIR, split_size)"
      ],
      "execution_count": null,
      "outputs": []
    },
    {
      "cell_type": "code",
      "metadata": {
        "id": "Gvc-CjNfyBE0"
      },
      "source": [
        "print(len(os.listdir('/tmp/cats-v-dogs/training/cats/')))\r\n",
        "print(len(os.listdir('/tmp/cats-v-dogs/training/dogs/')))\r\n",
        "print(len(os.listdir('/tmp/cats-v-dogs/testing/cats/')))\r\n",
        "print(len(os.listdir('/tmp/cats-v-dogs/testing/dogs/')))\r\n",
        "\r\n",
        "# Expected output:\r\n",
        "# 1350\r\n",
        "# 1350\r\n",
        "# 150\r\n",
        "# 150"
      ],
      "execution_count": null,
      "outputs": []
    },
    {
      "cell_type": "code",
      "metadata": {
        "id": "Tcl9kLr6yCBD"
      },
      "source": [
        "# DEFINE A KERAS MODEL TO CLASSIFY CATS V DOGS\r\n",
        "# USE AT LEAST 3 CONVOLUTION LAYERS\r\n",
        "model = tf.keras.models.Sequential([\r\n",
        "tf.keras.layers.Conv2D(16, (3,3), activation='relu', input_shape=(150, 150, 3)),\r\n",
        "  tf.keras.layers.MaxPooling2D(2,2),\r\n",
        "  tf.keras.layers.Conv2D(32, (3,3), activation='relu'),\r\n",
        "  tf.keras.layers.MaxPooling2D(2,2), \r\n",
        "  tf.keras.layers.Conv2D(64, (3,3), activation='relu'), \r\n",
        "  tf.keras.layers.MaxPooling2D(2,2),\r\n",
        "  # Flatten the results to feed into a DNN\r\n",
        "  tf.keras.layers.Flatten(), \r\n",
        "  # 512 neuron hidden layer\r\n",
        "  tf.keras.layers.Dense(512, activation='relu'), \r\n",
        "  # Only 1 output neuron. It will contain a value from 0-1 where 0 for 1 class ('cats') and 1 for the other ('dogs')\r\n",
        "  tf.keras.layers.Dense(1, activation='sigmoid')\r\n",
        "])\r\n",
        "\r\n",
        "model.compile(optimizer=RMSprop(lr=0.001), loss='binary_crossentropy', metrics=['acc'])"
      ],
      "execution_count": null,
      "outputs": []
    },
    {
      "cell_type": "code",
      "metadata": {
        "id": "9dxVDHTzyCvx"
      },
      "source": [
        "TRAINING_DIR = \"/tmp/cats-v-dogs/training\"\r\n",
        "train_datagen = ImageDataGenerator( rescale = 1.0/255.,\r\n",
        "                                    rotation_range=40,\r\n",
        "      width_shift_range=0.2,\r\n",
        "      height_shift_range=0.2,\r\n",
        "      shear_range=0.2,\r\n",
        "      zoom_range=0.2,\r\n",
        "      horizontal_flip=True,\r\n",
        "      fill_mode='nearest')\r\n",
        "train_generator = train_datagen.flow_from_directory(TRAINING_DIR,\r\n",
        "                                                    batch_size=20,\r\n",
        "                                                    class_mode='binary',\r\n",
        "                                                    target_size=(150, 150))\r\n",
        "\r\n",
        "VALIDATION_DIR = \"/tmp/cats-v-dogs/testing\"\r\n",
        "validation_datagen = ImageDataGenerator( rescale = 1.0/255.,\r\n",
        "                                       rotation_range=40,\r\n",
        "      width_shift_range=0.2,\r\n",
        "      height_shift_range=0.2,\r\n",
        "      shear_range=0.2,\r\n",
        "      zoom_range=0.2,\r\n",
        "      horizontal_flip=True,\r\n",
        "      fill_mode='nearest')\r\n",
        "validation_generator = validation_datagen.flow_from_directory(VALIDATION_DIR,\r\n",
        "                                                         batch_size=20,\r\n",
        "                                                         class_mode  = 'binary',\r\n",
        "                                                         target_size = (150, 150))\r\n",
        "\r\n",
        "\r\n",
        "\r\n",
        "# Expected Output:\r\n",
        "# Found 2700 images belonging to 2 classes.\r\n",
        "# Found 300 images belonging to 2 classes."
      ],
      "execution_count": null,
      "outputs": []
    },
    {
      "cell_type": "code",
      "metadata": {
        "id": "MXsTCkE4yD5F"
      },
      "source": [
        "history = model.fit_generator(train_generator,\r\n",
        "                              epochs=2,\r\n",
        "                              verbose=1,\r\n",
        "                              validation_data=validation_generator)\r\n"
      ],
      "execution_count": null,
      "outputs": []
    },
    {
      "cell_type": "code",
      "metadata": {
        "id": "wiVkHQilyEmt"
      },
      "source": [
        "# PLOT LOSS AND ACCURACY\r\n",
        "%matplotlib inline\r\n",
        "\r\n",
        "import matplotlib.image  as mpimg\r\n",
        "import matplotlib.pyplot as plt\r\n",
        "\r\n",
        "#-----------------------------------------------------------\r\n",
        "# Retrieve a list of list results on training and test data\r\n",
        "# sets for each training epoch\r\n",
        "#-----------------------------------------------------------\r\n",
        "acc=history.history['acc']\r\n",
        "val_acc=history.history['val_acc']\r\n",
        "loss=history.history['loss']\r\n",
        "val_loss=history.history['val_loss']\r\n",
        "\r\n",
        "epochs=range(len(acc)) # Get number of epochs\r\n",
        "\r\n",
        "#------------------------------------------------\r\n",
        "# Plot training and validation accuracy per epoch\r\n",
        "#------------------------------------------------\r\n",
        "plt.plot(epochs, acc, 'r', \"Training Accuracy\")\r\n",
        "plt.plot(epochs, val_acc, 'b', \"Validation Accuracy\")\r\n",
        "plt.title('Training and validation accuracy')\r\n",
        "plt.figure()\r\n",
        "\r\n",
        "#------------------------------------------------\r\n",
        "# Plot training and validation loss per epoch\r\n",
        "#------------------------------------------------\r\n",
        "plt.plot(epochs, loss, 'r', \"Training Loss\")\r\n",
        "plt.plot(epochs, val_loss, 'b', \"Validation Loss\")\r\n",
        "\r\n",
        "\r\n",
        "plt.title('Training and validation loss')\r\n",
        "\r\n",
        "# Desired output. Charts with training and validation metrics. No crash :)"
      ],
      "execution_count": null,
      "outputs": []
    }
  ]
}