{
  "nbformat": 4,
  "nbformat_minor": 0,
  "metadata": {
    "colab": {
      "name": "Untitled38.ipynb",
      "provenance": []
    },
    "kernelspec": {
      "name": "python3",
      "display_name": "Python 3"
    }
  },
  "cells": [
    {
      "cell_type": "code",
      "metadata": {
        "colab": {
          "base_uri": "https://localhost:8080/"
        },
        "id": "tlCFy5-3AZnv",
        "outputId": "88cb72fb-3a04-48de-a23e-38add88b0b53"
      },
      "source": [
        "import tensorflow as tf\r\n",
        "from tensorflow import keras\r\n",
        "from tensorflow.keras.preprocessing.text import Tokenizer\r\n",
        "\r\n",
        "sentences = [\r\n",
        "  'I love my dog',\r\n",
        "  'I love my cat',\r\n",
        "  'You love my sample',\r\n",
        "  'Do you think my dog is amazing?'\r\n",
        "]\r\n",
        "\r\n",
        "tokenizer = Tokenizer(num_words = 100)\r\n",
        "tokenizer.fit_on_texts(sentences)\r\n",
        "word_index = tokenizer.word_index\r\n",
        "print(word_index)"
      ],
      "execution_count": 15,
      "outputs": [
        {
          "output_type": "stream",
          "text": [
            "{'my': 1, 'love': 2, 'i': 3, 'dog': 4, 'you': 5, 'cat': 6, 'sample': 7, 'do': 8, 'think': 9, 'is': 10, 'amazing': 11}\n"
          ],
          "name": "stdout"
        }
      ]
    },
    {
      "cell_type": "code",
      "metadata": {
        "colab": {
          "base_uri": "https://localhost:8080/"
        },
        "id": "PeS_N9GcB7sB",
        "outputId": "d6ae3de6-e92c-4202-867e-9dd886343c2d"
      },
      "source": [
        "sequences = tokenizer.texts_to_sequences(sentences)\r\n",
        "print(sequences)"
      ],
      "execution_count": 16,
      "outputs": [
        {
          "output_type": "stream",
          "text": [
            "[[3, 2, 1, 4], [3, 2, 1, 6], [5, 2, 1, 7], [8, 5, 9, 1, 4, 10, 11]]\n"
          ],
          "name": "stdout"
        }
      ]
    },
    {
      "cell_type": "code",
      "metadata": {
        "colab": {
          "base_uri": "https://localhost:8080/"
        },
        "id": "yOTX0DvlClU6",
        "outputId": "c43140d6-a3fe-4ff3-b499-92e9f8157574"
      },
      "source": [
        "test_data = [\r\n",
        "  'i really love my dog',\r\n",
        "  'my dog loves my manatee'\r\n",
        "]\r\n",
        "\r\n",
        "test_seq = tokenizer.texts_to_sequences(test_data)\r\n",
        "print(test_seq)"
      ],
      "execution_count": 17,
      "outputs": [
        {
          "output_type": "stream",
          "text": [
            "[[3, 2, 1, 4], [1, 4, 1]]\n"
          ],
          "name": "stdout"
        }
      ]
    },
    {
      "cell_type": "code",
      "metadata": {
        "colab": {
          "base_uri": "https://localhost:8080/"
        },
        "id": "mLpom3l1C_ia",
        "outputId": "710d62e7-ae41-48cb-b581-9313635ab989"
      },
      "source": [
        "tokenizer = Tokenizer(num_words = 100,oov_token='<OOV>')\r\n",
        "tokenizer.fit_on_texts(sentences)\r\n",
        "word_index = tokenizer.word_index\r\n",
        "print(word_index)"
      ],
      "execution_count": 18,
      "outputs": [
        {
          "output_type": "stream",
          "text": [
            "{'<OOV>': 1, 'my': 2, 'love': 3, 'i': 4, 'dog': 5, 'you': 6, 'cat': 7, 'sample': 8, 'do': 9, 'think': 10, 'is': 11, 'amazing': 12}\n"
          ],
          "name": "stdout"
        }
      ]
    },
    {
      "cell_type": "code",
      "metadata": {
        "colab": {
          "base_uri": "https://localhost:8080/"
        },
        "id": "DFq_xhjvDTzD",
        "outputId": "c2dd5c8d-6369-4e3d-c6ad-b132592e0e36"
      },
      "source": [
        "sequences = tokenizer.texts_to_sequences(sentences)\r\n",
        "print(sequences)\r\n",
        "test_data = [\r\n",
        "  'i really love my dog',\r\n",
        "  'my dog loves my manatee'\r\n",
        "]\r\n",
        "\r\n",
        "test_seq = tokenizer.texts_to_sequences(test_data)\r\n",
        "print(test_seq)"
      ],
      "execution_count": 19,
      "outputs": [
        {
          "output_type": "stream",
          "text": [
            "[[4, 3, 2, 5], [4, 3, 2, 7], [6, 3, 2, 8], [9, 6, 10, 2, 5, 11, 12]]\n",
            "[[4, 1, 3, 2, 5], [2, 5, 1, 2, 1]]\n"
          ],
          "name": "stdout"
        }
      ]
    },
    {
      "cell_type": "code",
      "metadata": {
        "colab": {
          "base_uri": "https://localhost:8080/"
        },
        "id": "9i4OckC4DZ39",
        "outputId": "ab51baea-349b-4b14-957e-68bdc87c3c1e"
      },
      "source": [
        "from tensorflow.keras.preprocessing.sequence import pad_sequences\r\n",
        "\r\n",
        "sentences = [\r\n",
        "  'I love my dog',\r\n",
        "  'I love my cat',\r\n",
        "  'You love my sample',\r\n",
        "  'Do you think my dog is amazing?'\r\n",
        "]\r\n",
        "\r\n",
        "tokenizer = Tokenizer(num_words = 100)\r\n",
        "tokenizer.fit_on_texts(sentences)\r\n",
        "word_index = tokenizer.word_index\r\n",
        "print(word_index)\r\n",
        "\r\n",
        "sequences = tokenizer.texts_to_sequences(sentences)\r\n",
        "print(sequences)\r\n",
        "\r\n",
        "padded = pad_sequences(sequences,padding='post')\r\n",
        "print(padded)"
      ],
      "execution_count": 20,
      "outputs": [
        {
          "output_type": "stream",
          "text": [
            "{'my': 1, 'love': 2, 'i': 3, 'dog': 4, 'you': 5, 'cat': 6, 'sample': 7, 'do': 8, 'think': 9, 'is': 10, 'amazing': 11}\n",
            "[[3, 2, 1, 4], [3, 2, 1, 6], [5, 2, 1, 7], [8, 5, 9, 1, 4, 10, 11]]\n",
            "[[ 0  0  0  3  2  1  4]\n",
            " [ 0  0  0  3  2  1  6]\n",
            " [ 0  0  0  5  2  1  7]\n",
            " [ 8  5  9  1  4 10 11]]\n"
          ],
          "name": "stdout"
        }
      ]
    },
    {
      "cell_type": "code",
      "metadata": {
        "colab": {
          "base_uri": "https://localhost:8080/"
        },
        "id": "gYYVZNfTEX5x",
        "outputId": "4448cdb6-f50c-46d2-93ec-c116deae99a0"
      },
      "source": [
        "padded = pad_sequences(sequences,padding='post')\r\n",
        "print(padded)"
      ],
      "execution_count": 21,
      "outputs": [
        {
          "output_type": "stream",
          "text": [
            "[[ 3  2  1  4  0  0  0]\n",
            " [ 3  2  1  6  0  0  0]\n",
            " [ 5  2  1  7  0  0  0]\n",
            " [ 8  5  9  1  4 10 11]]\n"
          ],
          "name": "stdout"
        }
      ]
    },
    {
      "cell_type": "code",
      "metadata": {
        "colab": {
          "base_uri": "https://localhost:8080/"
        },
        "id": "OJixSlhTEZNw",
        "outputId": "924c7a5e-5f29-4cea-ad7c-526b5b966a18"
      },
      "source": [
        "padded = pad_sequences(sequences,padding='post',truncating='post')\r\n",
        "print(padded)"
      ],
      "execution_count": 22,
      "outputs": [
        {
          "output_type": "stream",
          "text": [
            "[[ 3  2  1  4  0  0  0]\n",
            " [ 3  2  1  6  0  0  0]\n",
            " [ 5  2  1  7  0  0  0]\n",
            " [ 8  5  9  1  4 10 11]]\n"
          ],
          "name": "stdout"
        }
      ]
    },
    {
      "cell_type": "code",
      "metadata": {
        "colab": {
          "base_uri": "https://localhost:8080/"
        },
        "id": "bi-bL3GbEdXz",
        "outputId": "0cbd2ed4-3339-4862-9145-8c4422d5593d"
      },
      "source": [
        "padded = pad_sequences(sequences,padding='post',truncating='post',maxlen=5)\r\n",
        "print(padded)"
      ],
      "execution_count": 23,
      "outputs": [
        {
          "output_type": "stream",
          "text": [
            "[[3 2 1 4 0]\n",
            " [3 2 1 6 0]\n",
            " [5 2 1 7 0]\n",
            " [8 5 9 1 4]]\n"
          ],
          "name": "stdout"
        }
      ]
    },
    {
      "cell_type": "code",
      "metadata": {
        "id": "XQXoVprOEqzF"
      },
      "source": [
        "import json\r\n",
        "\r\n",
        "with open('/content/Sarcasm_Headlines_Dataset.json','r') as f:\r\n",
        "  datastore = json.load(f)\r\n",
        "\r\n",
        "sentences = []\r\n",
        "labels = []\r\n",
        "urls =[]\r\n",
        "for item in datastore:\r\n",
        "  sentences.append(item['headline'])\r\n",
        "  labels.append(item['is_sarcastic'])\r\n",
        "  urls.append(item['article_link'])"
      ],
      "execution_count": 26,
      "outputs": []
    },
    {
      "cell_type": "code",
      "metadata": {
        "colab": {
          "base_uri": "https://localhost:8080/"
        },
        "id": "bh1lGdmpHI3N",
        "outputId": "ac6beae6-7d69-4694-d680-7a00dd46bf86"
      },
      "source": [
        "sentences"
      ],
      "execution_count": 27,
      "outputs": [
        {
          "output_type": "execute_result",
          "data": {
            "text/plain": [
              "[\"former versace store clerk sues over secret 'black code' for minority shoppers\",\n",
              " \"the 'roseanne' revival catches up to our thorny political mood, for better and worse\",\n",
              " \"mom starting to fear son's web series closest thing she will have to grandchild\",\n",
              " 'boehner just wants wife to listen, not come up with alternative debt-reduction ideas',\n",
              " 'j.k. rowling wishes snape happy birthday in the most magical way',\n",
              " \"advancing the world's women\",\n",
              " 'the fascinating case for eating lab-grown meat',\n",
              " 'this ceo will send your kids to school, if you work for his company',\n",
              " 'top snake handler leaves sinking huckabee campaign',\n",
              " \"friday's morning email: inside trump's presser for the ages\",\n",
              " 'airline passengers tackle man who rushes cockpit in bomb threat',\n",
              " 'facebook reportedly working on healthcare features and apps',\n",
              " \"north korea praises trump and urges us voters to reject 'dull hillary'\"]"
            ]
          },
          "metadata": {
            "tags": []
          },
          "execution_count": 27
        }
      ]
    },
    {
      "cell_type": "code",
      "metadata": {
        "colab": {
          "base_uri": "https://localhost:8080/",
          "height": 278
        },
        "id": "6ehfgqvnHRY-",
        "outputId": "af72b4de-57b2-458c-86f5-d2b43879c419"
      },
      "source": [
        "tokenizer = Tokenizer(oov_token='<OOV>')\r\n",
        "tokenizer.fit_on_texts(sentences)\r\n",
        "word_index = tokenizer.word_index\r\n",
        "\r\n",
        "sequences = tokenizer.texts_to_sequences(sentences)\r\n",
        "padded = pad_sequences(sequences)\r\n",
        "\r\n",
        "print(word_index)\r\n",
        "print(sequences)\r\n",
        "print(sequences)\r\n",
        "print(padded)"
      ],
      "execution_count": 29,
      "outputs": [
        {
          "output_type": "stream",
          "text": [
            "{'<OOV>': 1, 'to': 2, 'for': 3, 'the': 4, 'and': 5, 'up': 6, 'will': 7, 'in': 8, 'former': 9, 'versace': 10, 'store': 11, 'clerk': 12, 'sues': 13, 'over': 14, 'secret': 15, \"'black\": 16, \"code'\": 17, 'minority': 18, 'shoppers': 19, \"'roseanne'\": 20, 'revival': 21, 'catches': 22, 'our': 23, 'thorny': 24, 'political': 25, 'mood': 26, 'better': 27, 'worse': 28, 'mom': 29, 'starting': 30, 'fear': 31, \"son's\": 32, 'web': 33, 'series': 34, 'closest': 35, 'thing': 36, 'she': 37, 'have': 38, 'grandchild': 39, 'boehner': 40, 'just': 41, 'wants': 42, 'wife': 43, 'listen': 44, 'not': 45, 'come': 46, 'with': 47, 'alternative': 48, 'debt': 49, 'reduction': 50, 'ideas': 51, 'j': 52, 'k': 53, 'rowling': 54, 'wishes': 55, 'snape': 56, 'happy': 57, 'birthday': 58, 'most': 59, 'magical': 60, 'way': 61, 'advancing': 62, \"world's\": 63, 'women': 64, 'fascinating': 65, 'case': 66, 'eating': 67, 'lab': 68, 'grown': 69, 'meat': 70, 'this': 71, 'ceo': 72, 'send': 73, 'your': 74, 'kids': 75, 'school': 76, 'if': 77, 'you': 78, 'work': 79, 'his': 80, 'company': 81, 'top': 82, 'snake': 83, 'handler': 84, 'leaves': 85, 'sinking': 86, 'huckabee': 87, 'campaign': 88, \"friday's\": 89, 'morning': 90, 'email': 91, 'inside': 92, \"trump's\": 93, 'presser': 94, 'ages': 95, 'airline': 96, 'passengers': 97, 'tackle': 98, 'man': 99, 'who': 100, 'rushes': 101, 'cockpit': 102, 'bomb': 103, 'threat': 104, 'facebook': 105, 'reportedly': 106, 'working': 107, 'on': 108, 'healthcare': 109, 'features': 110, 'apps': 111, 'north': 112, 'korea': 113, 'praises': 114, 'trump': 115, 'urges': 116, 'us': 117, 'voters': 118, 'reject': 119, \"'dull\": 120, \"hillary'\": 121}\n"
          ],
          "name": "stdout"
        },
        {
          "output_type": "error",
          "ename": "AttributeError",
          "evalue": "ignored",
          "traceback": [
            "\u001b[0;31m---------------------------------------------------------------------------\u001b[0m",
            "\u001b[0;31mAttributeError\u001b[0m                            Traceback (most recent call last)",
            "\u001b[0;32m<ipython-input-29-e5adec79a7ee>\u001b[0m in \u001b[0;36m<module>\u001b[0;34m()\u001b[0m\n\u001b[1;32m      7\u001b[0m \u001b[0;34m\u001b[0m\u001b[0m\n\u001b[1;32m      8\u001b[0m \u001b[0mprint\u001b[0m\u001b[0;34m(\u001b[0m\u001b[0mword_index\u001b[0m\u001b[0;34m)\u001b[0m\u001b[0;34m\u001b[0m\u001b[0;34m\u001b[0m\u001b[0m\n\u001b[0;32m----> 9\u001b[0;31m \u001b[0mprint\u001b[0m\u001b[0;34m(\u001b[0m\u001b[0msequences\u001b[0m\u001b[0;34m.\u001b[0m\u001b[0mshape\u001b[0m\u001b[0;34m)\u001b[0m\u001b[0;34m\u001b[0m\u001b[0;34m\u001b[0m\u001b[0m\n\u001b[0m\u001b[1;32m     10\u001b[0m \u001b[0mprint\u001b[0m\u001b[0;34m(\u001b[0m\u001b[0msequences\u001b[0m\u001b[0;34m)\u001b[0m\u001b[0;34m\u001b[0m\u001b[0;34m\u001b[0m\u001b[0m\n\u001b[1;32m     11\u001b[0m \u001b[0mprint\u001b[0m\u001b[0;34m(\u001b[0m\u001b[0mpadded\u001b[0m\u001b[0;34m)\u001b[0m\u001b[0;34m\u001b[0m\u001b[0;34m\u001b[0m\u001b[0m\n",
            "\u001b[0;31mAttributeError\u001b[0m: 'list' object has no attribute 'shape'"
          ]
        }
      ]
    },
    {
      "cell_type": "code",
      "metadata": {
        "id": "URW69pxmHw_r"
      },
      "source": [
        ""
      ],
      "execution_count": null,
      "outputs": []
    }
  ]
}