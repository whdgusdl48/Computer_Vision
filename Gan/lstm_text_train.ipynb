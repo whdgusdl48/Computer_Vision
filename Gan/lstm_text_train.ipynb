{
 "metadata": {
  "language_info": {
   "codemirror_mode": {
    "name": "ipython",
    "version": 3
   },
   "file_extension": ".py",
   "mimetype": "text/x-python",
   "name": "python",
   "nbconvert_exporter": "python",
   "pygments_lexer": "ipython3",
   "version": "3.6.9-final"
  },
  "orig_nbformat": 2,
  "kernelspec": {
   "name": "python36964bitpy36venve2b7835506d24c4589ed71b31afa3c33",
   "display_name": "Python 3.6.9 64-bit ('py36': venv)",
   "language": "python"
  }
 },
 "nbformat": 4,
 "nbformat_minor": 2,
 "cells": [
  {
   "cell_type": "code",
   "execution_count": 4,
   "metadata": {},
   "outputs": [],
   "source": [
    "import re\n",
    "import numpy as np\n",
    "from IPython.display import clear_output\n",
    "\n",
    "from tensorflow.keras.layers import Dense, LSTM, Input, Embedding, Dropout\n",
    "import tensorflow as tf\n",
    "from tensorflow.keras.models import Model, load_model\n",
    "from tensorflow.keras.optimizers import Adam, RMSprop\n",
    "from tensorflow.keras.utils import to_categorical\n",
    "from tensorflow.keras.preprocessing.sequence import pad_sequences\n",
    "from tensorflow.keras.preprocessing.text import Tokenizer\n",
    "from tensorflow.keras.callbacks import LambdaCallback\n",
    "\n"
   ]
  },
  {
   "cell_type": "code",
   "execution_count": 5,
   "metadata": {},
   "outputs": [],
   "source": [
    "load_save_model = False\n",
    "train_model = True"
   ]
  },
  {
   "cell_type": "code",
   "execution_count": 6,
   "metadata": {},
   "outputs": [],
   "source": [
    "token_type = 'word'"
   ]
  },
  {
   "cell_type": "code",
   "execution_count": 13,
   "metadata": {},
   "outputs": [
    {
     "output_type": "stream",
     "name": "stdout",
     "text": [
      "18358\n"
     ]
    }
   ],
   "source": [
    "seq_length = 20\n",
    "\n",
    "filename = \"./data/aesop/data.txt\"\n",
    "\n",
    "with open(filename, encoding='utf-8-sig') as f:\n",
    "    text = f.read()\n",
    "    \n",
    "    \n",
    "#removing text before and after the main stories\n",
    "start = text.find(\"THE FOX AND THE GRAPES\\n\\n\\n\")\n",
    "end = text.find(\"ILLUSTRATIONS\\n\\n\\n[\")\n",
    "text = text[start:end]"
   ]
  },
  {
   "cell_type": "code",
   "execution_count": 12,
   "metadata": {
    "tags": []
   },
   "outputs": [
    {
     "output_type": "stream",
     "name": "stdout",
     "text": [
      "| | | | | | | | | | | | | | | | | | | | \n"
     ]
    }
   ],
   "source": [
    "start_story = '| ' * seq_length\n",
    "print(start_story)\n",
    "text = start_story + text\n",
    "text = text.lower()\n",
    "text = text.replace('\\n\\n\\n\\n\\n', start_story)\n",
    "text = text.replace('\\n', ' ')\n",
    "text = re.sub('  +', '. ', text).strip()\n",
    "text = text.replace('..', '.')\n",
    "\n",
    "text = re.sub('([!\"#$%&()*+,-./:;<=>?@[\\]^_`{|}~])', r' \\1 ', text)\n",
    "text = re.sub('\\s{2,}', ' ', text)"
   ]
  },
  {
   "cell_type": "code",
   "execution_count": 9,
   "metadata": {},
   "outputs": [
    {
     "output_type": "execute_result",
     "data": {
      "text/plain": [
       "213716"
      ]
     },
     "metadata": {},
     "execution_count": 9
    }
   ],
   "source": [
    "len(text)"
   ]
  },
  {
   "cell_type": "code",
   "execution_count": 10,
   "metadata": {},
   "outputs": [
    {
     "output_type": "execute_result",
     "data": {
      "text/plain": [
       " of omen which foretold the future , and was accordingly held in great respect by them . she was very anxious to get the same sort of reputation herself ; and , one day , seeing some travellers approaching , she flew on to a branch of a tree at the roadside and cawed as loud as she could . the travellers were in some dismay at the sound , for they feared it might be a bad omen ; till one of them , spying the crow , said to his companions , \" it\\'s all right , my friends , we can go on without fear , for it\\'s only a crow and that means nothing . \" . those who pretend to be something they are not only make . themselves ridiculous . | | | | | | | | | | | | | | | | | | | | the witch . a witch professed to be able to avert the anger of the gods by means of charms , of which she alone possessed the secret ; and she drove a brisk trade , and made a fat livelihood out of it . but certain persons accused her of black magic and carried her before the judges , and demanded that she should be put to death for dealings with the devil . she was found guilty and condemned to death : and one of the judges said to her as she was leaving the dock , \" you say you can avert the anger of the gods . how comes it , then , that you have failed to disarm the enmity of men ? \" | | | | | | | | | | | | | | | | | | | | the old man and death . an old man cut himself a bundle of faggots in a wood and started to carry them home . he had a long way to go , and was tired out before he had got much more than half - way . casting his burden on the ground , he called upon death to come and release him from his life of toil . the words were scarcely out of his mouth when , much to his dismay , death stood before him and professed his readiness to serve him . he was almost frightened out of his wits , but he had enough presence of mind to stammer out , \" good sir , if you\\'d be so kind , pray help me up with my burden again . \" | | | | | | | | | | | | | | | | | | | | the miser . a miser sold everything he had , and melted down his hoard of gold into a single lump , which he buried secretly in a field . every day he went to look at it , and would sometimes spend long hours gloating over his treasure . one of his men noticed his frequent visits to the spot , and one day watched him and discovered his secret . waiting his opportunity , he went one night and dug up the gold and stole it . next day the miser visited the place as usual , and , finding his treasure gone , fell to tearing his hair and groaning over his loss . in this condition he was seen by one of his neighbours , who asked him what his trouble was . the miser told him of his misfortune ; but the other replied , \" don\\'t take it so much to heart , my friend ; put a brick into the hole , and take a look at it every day : you won\\'t be any worse off than before , for even when you had your gold it was of no earthly use to you . \" | | | | | | | | | | | | | | | | | | | | the foxes and the river . a number of foxes assembled on the bank of a river and wanted to drink ; but the current was so strong and the water looked so deep and dangerous that they didn\\'t dare to do so , but stood near the edge encouraging one another not to be afraid . at last one of them , to shame the rest , and show how brave he was , said , \" i am not a bit frightened ! see , i\\'ll step right into the water ! \" he had no sooner done so than the current swept him off his feet . when the others saw him being carried down - stream they cried , \" don\\'t go and leave us ! come back and show us where we too can drink with safety . \" but he replied , \" i\\'m afraid i can\\'t yet : i want to go to the seaside , and this current will take me there nicely . when i come back i\\'ll show you with pleasure . \" | | | | | | | | | | | | | | | | | | | | the horse and the stag . there was once a horse who used to graze in a meadow which he had all to himself . but one day a stag came into the meadow , and said he had as good a right to feed there as the horse , and moreover chose all the best places for himself . the horse , wishing to be revenged upon his unwelcome visitor , went to a man and asked if he would help him to turn out the stag . \" yes , \" said the man , \" i will by all means ; but i can only do so if you let me put a bridle in your mouth and mount on your back . \" the horse agreed to this , and the two together very soon turned the stag out of the pasture : but when that was done , the horse found to his dismay that in the man he had got a master for good . | | | | | | | | | | | | | | | | | | | | the fox and the bramble . in making his way through a hedge a fox missed his footing and caught at a bramble to save himself from falling . naturally , he got badly scratched , and in disgust he cried to the bramble , \" it was your help i wanted , and see how you have treated me ! i\\'d sooner have fallen outright . \" the bramble , interrupting him , replied , \" you must have lost your wits , my friend , to catch at me , who am myself always catching at others . \" | | | | | | | | | | | | | | | | | | | | the fox and the snake . a snake , in crossing a river , was carried away by the current , but managed to wriggle on to a bundle of thorns which was floating by , and was thus carried at a great rate down - stream . a fox caught sight of it from the bank as it went whirling along , and called out , \" gad ! the passenger fits the ship ! \" | | | | | | | | | | | | | | | | | | | | the lion , the fox , and the stag . a lion lay sick in his den , unable to provide himself with food . so he said to his friend the fox , who came to ask how he did , \" my good friend , i wish you would go to yonder wood and beguile the big stag , who lives there , to come to my den : i have a fancy to make my dinner off a stag\\'s heart and brains . \" the fox went to the wood and found the stag and said to him , \" my dear sir , you\\'re in luck . you know the lion , our king : well , he\\'s at the point of death , and has appointed you his successor to rule over the beasts . i hope you won\\'t forget that i was the first to bring you the good news . and now i must be going back to him ; and , if you take my advice , you\\'ll come too and be with him at the last . \" the stag was highly flattered , and followed the fox to the lion\\'s den , suspecting nothing . no sooner had he got inside than the lion sprang upon him , but he misjudged his spring , and the stag got away with only his ears torn , and returned as fast as he could to the shelter of the wood . the fox was much mortified , and the lion , too , was dreadfully disappointed , for he was getting very hungry in spite of his illness . so he begged the fox to have another try at coaxing the stag to his den . \" it\\'ll be almost impossible this time , \" said the fox , \" but i\\'ll try \" ; and off he went to the wood a second time , and found the stag resting and trying to recover from his fright . as soon as he saw the fox he cried , \" you scoundrel , what do you mean by trying to lure me to my death like that ? take yourself off , or i\\'ll do you to death with my horns . \" but the fox was entirely shameless . \" what a coward you were , \" said he ; \" surely you didn\\'t think the lion meant any harm ? why , he was only going to whisper some royal secrets into your ear when you went off like a scared rabbit . you have rather disgusted him , and i\\'m not sure he won\\'t make the wolf king instead , unless you come back at once and show you\\'ve got some spirit . i promise you he won\\'t hurt you , and i will be your faithful servant . \" the stag was foolish enough to be persuaded to return , and this time the lion made no mistake , but overpowered him , and feasted right royally upon his carcase . the fox , meanwhile , watched his chance and , when the lion wasn\\'t looking , filched away the brains to reward him for his trouble . presently the lion began searching for them , of course without success : and the fox , who was watching him , said , \" i don\\'t think it\\'s much use your looking for the brains : a creature who twice walked into a lion\\'s den can\\'t have got any . \" | | | | | | | | | | | | | | | | | | | | the man who lost his spade . a man was engaged in digging over his vineyard , and one day on coming to work he missed his spade . thinking it may have been stolen by one of his labourers , he questioned them closely , but they one and all denied any knowledge of it . he was not convinced by their denials , and insisted that they should all go to the town and take oath in a temple that they were not guilty of the theft . this was because he had no great opinion of the simple country deities , but thought that the thief would not pass undetected by the shrewder gods of the town . when they got inside the gates the first thing they heard was the town crier proclaiming a reward for information about a thief who had stolen something from the city temple . \" well , \" said the man to himself , \" it strikes me i had better go back home again . if these town gods can\\'t detect the thieves who steal from their own temples , it\\'s scarcely likely they can tell me who stole my spade . \" | | | | | | | | | | | | | | | | | | | | the partridge and the fowler . a fowler caught a partridge in his nets , and was just about to wring its neck when it made a piteous appeal to him to spare its life and said , \" do not kill me , but let me live and i will repay you for your kindness by decoying other partridges into your nets . \" \" no , \" said the fowler , \" i will not spare you . i was going to kill you anyhow , and after that treacherous speech you thoroughly deserve your fate . \" | | | | | | | | | | | | | | | | | | | | the runaway slave . a slave , being discontented with his lot , ran away from his master . he was soon missed by the latter , who lost no time in mounting his horse and setting out in pursuit of the fugitive . he presently came up with him , and the slave , in the hope of avoiding capture , slipped into a treadmill and hid himself there . \" aha , \" said his master , \" that\\'s the very place for you , my man ! \" | | | | | | | | | | | | | | | | | | | | the hunter and the woodman . a hunter was searching in the forest for the tracks of a lion , and , catching sight presently of a woodman engaged in felling a tree , he went up to him and asked him if he had noticed a lion\\'s footprints anywhere about , or if he knew where his den was . the woodman answered , \" if you will come with me , i will show you the lion himself . \" the hunter turned pale with fear , and his teeth chattered as he replied , \" oh , i\\'m not looking for the lion , thanks , but only for his tracks . \" | | | | | | | | | | | | | | | | | | | | the serpent and the eagle . an eagle swooped down upon a serpent and seized it in his talons with the intention of carrying it off and devouring it . but the serpent was too quick for him and had its coils round him in a moment ; and then there ensued a life - and - death struggle between the two . a countryman , who was a witness of the encounter , came to the assistance of the eagle , and succeeded in freeing him from the serpent and enabling him to escape . in revenge the serpent spat some of his poison into the man\\'s drinking - horn . heated with his exertions , the man was about to slake his thirst with a draught from the horn , when the eagle knocked it out of his hand , and spilled its contents upon the ground . one good turn deserves another . | | | | | | | | | | | | | | | | | | | | the rogue and the oracle . a rogue laid a wager that he would prove the oracle at delphi to be untrustworthy by procuring from it a false reply to an inquiry by himself . so he went to the temple on the appointed day with a small bird in his hand , which he concealed under the folds of his cloak , and asked whether what he held in his hand were alive or dead . if the oracle said \" dead , \" he meant to produce the bird alive : if the reply was \" alive , \" he intended to wring its neck and show it to be dead . but the oracle was one too many for him , for the answer he got was this : \" stranger , whether the thing that you hold in your hand be alive or dead is a matter that depends entirely on your own will . \" | | | | | | | | | | | | | | | | | | | | the horse and the ass . a horse , proud of his fine harness , met an ass on the high - road . as the ass with his heavy burden moved slowly out of the way to let him pass , the horse cried out impatiently that he could hardly resist kicking him to make him move faster . the ass held his peace , but did not forget the other\\'s insolence . not long afterwards the horse became broken - winded , and was sold by his owner to a farmer . one day , as he was drawing a dung - cart , he met the ass again , who in turn derided him and said , \" aha ! you never thought to come to this , did you , you who were so proud ! where are all your gay trappings now ? \" | | | | | | | | | | | | | | | | | | | | the dog chasing a wolf . a dog was chasing a wolf , and as he ran he thought what a fine fellow he was , and what strong legs he had , and how quickly they covered the ground . \" now , there\\'s this wolf , \" he said to himself , \" what a poor creature he is : he\\'s no match for me , and he knows it and so he runs away . \" but the wolf looked round just then and said , \" don\\'t you imagine i\\'m running away from you , my friend : it\\'s your master i\\'m afraid of . \" | | | | | | | | | | | | | | | | | | | | grief and his due . when jupiter was assigning the various gods their privileges , it so happened that grief was not present with the rest : but when all had received their share , he too entered and claimed his due . jupiter was at a loss to know what to do , for there was nothing left for him . however , at last he decided that to him should belong the tears that are shed for the dead . thus it is the same with grief as it is with the other gods . the more devoutly men render to him his due , the more lavish is he of that which he has to bestow . it is not well , therefore , to mourn long for the departed ; else grief , whose sole pleasure is in such mourning , will be quick to send fresh cause for tears . | | | | | | | | | | | | | | | | | | | | the hawk , the kite , and the pigeons . the pigeons in a certain dovecote were persecuted by a kite , who every now and then swooped down and carried off one of their number . so they invited a hawk into the dovecote to defend them against their enemy . but they soon repented of their folly : for the hawk killed more of them in a day than the kite had done in a year . | | | | | | | | | | | | | | | | | | | | the woman and the farmer . a woman , who had lately lost her husband , used to go every day to his grave and lament her loss . a farmer , who was engaged in ploughing not far from the spot , set eyes upon the woman and desired to have her for his wife : so he left his plough and came and sat by her side , and began to shed tears himself . she asked him why he wept ; and he replied , \" i have lately lost my wife , who was very dear to me , and tears ease my grief . \" \" and i , \" said she , \" have lost my husband . \" and so for a while they mourned in silence . then he said , \" since you and i are in like case , shall we not do well to marry and live together ? i shall take the place of your dead husband , and you , that of my dead wife . \" the woman consented to the plan , which indeed seemed reasonable enough : and they dried their tears . meanwhile , a thief had come and stolen the oxen which the farmer had left with his plough . on discovering the theft , he beat his breast and loudly bewailed his loss . when the woman heard his cries , she came and said , \" why , are you weeping still ? \" to which he replied , \" yes , and i mean it this time . \" | | | | | | | | | | | | | | | | | | | | prometheus and the making of man . at the bidding of jupiter , prometheus set about the creation of man and the other animals . jupiter , seeing that mankind , the only rational creatures , were far outnumbered by the irrational beasts , bade him redress the balance by turning some of the latter into men . prometheus did as he was bidden , and this is the reason why some people have the forms of men but the souls of beasts . | | | | | | | | | | | | | | | | | | | | the swallow and the crow . a swallow was once boasting to a crow about her birth . \" i was once a princess , \" said she , \" the daughter of a king of athens , but my husband used me cruelly , and cut out my tongue for a slight fault . then , to protect me from further injury , i was turned by juno into a bird . \" \" you chatter quite enough as it is , \" said the crow . \" what you would have been like if you hadn\\'t lost your tongue , i can\\'t think . \" | | | | | | | | | | | | | | | | | | | | the hunter and the horseman . a hunter went out after game , and succeeded in catching a hare , which he was carrying home with him when he met a man on horseback , who said to him , \" you have had some sport i see , sir , \" and offered to buy it . the hunter readily agreed ; but the horseman had no sooner got the hare in his hands than he set spurs to his horse and went off at full gallop . the hunter ran after him for some little distance ; but it soon dawned upon him that he had been tricked , and he gave up trying to overtake the horseman , and , to save his face , called after him as loud as he could , \" all right , sir , all right , take your hare : it was meant all along as a present . \" | | | | | | | | | | | | | | | | | | | | the goatherd and the wild goats . a goatherd was tending his goats out at pasture when he saw a number of wild goats approach and mingle with his flock . at the end of the day he drove them home and put them all into the pen together . next day the weather was so bad that he could not take them out as usual : so he kept them at home in the pen , and fed them there . he only gave his own goats enough food to keep them from starving , but he gave the wild goats as much as they could eat and more ; for he was very anxious for them to stay , and he thought that if he fed them well they wouldn\\'t want to leave him . when the weather improved , he took them all out to pasture again ; but no sooner had they got near the hills than the wild goats broke away from the flock and scampered off . the goatherd was very much disgusted at this , and roundly abused them for their ingratitude . \" rascals ! \" he cried , \" to run away like that after the way i\\'ve treated you ! \" hearing this , one of them turned round and said , \" oh , yes , you treated us all right - - too well , in fact ; it was just that that put us on our guard . if you treat newcomers like ourselves so much better than your own flock , it\\'s more than likely that , if another lot of strange goats joined yours , _ we _ should then be neglected in favour of the last comers . \" | | | | | | | | | | | | | | | | | | | | the nightingale and the swallow . a swallow , conversing with a nightingale , advised her to quit the leafy coverts where she made her home , and to come and live with men , like herself , and nest under the shelter of their roofs . but the nightingale replied , \" time was when i too , like yourself , lived among men : but the memory of the cruel wrongs i then suffered makes them hateful to me , and never again will i approach their dwellings . \" . the scene of past sufferings revives painful memories . | | | | | | | | | | | | | | | | | | | | the traveller and fortune . a traveller , exhausted with fatigue after a long journey , sank down at the very brink of a deep well and presently fell asleep . he was within an ace of falling in , when dame fortune appeared to him and touched him on the shoulder , cautioning him to move further away . \" wake up , good sir , i pray you , \" she said ; \" had you fallen into the well , the blame would have been thrown not on your own folly but on me , fortune . \" | | | | | | | | | | | | | | | | | | | | '"
      ]
     },
     "metadata": {},
     "execution_count": 10
    }
   ],
   "source": [
    "text"
   ]
  },
  {
   "cell_type": "code",
   "execution_count": 14,
   "metadata": {},
   "outputs": [],
   "source": [
    "if token_type == 'word':\n",
    "    tokenizer = Tokenizer(char_level = False, filters = '')\n",
    "else:\n",
    "    tokenizer = Tokenizer(char_level = True, filters = '', lower = False)\n",
    "    \n",
    "    \n",
    "tokenizer.fit_on_texts([text])\n",
    "\n",
    "total_words = len(tokenizer.word_index) + 1\n",
    "\n",
    "token_list = tokenizer.texts_to_sequences([text])[0]"
   ]
  },
  {
   "cell_type": "code",
   "execution_count": 15,
   "metadata": {},
   "outputs": [
    {
     "output_type": "execute_result",
     "data": {
      "text/plain": [
       "8315"
      ]
     },
     "metadata": {},
     "execution_count": 15
    }
   ],
   "source": [
    "total_words"
   ]
  },
  {
   "cell_type": "code",
   "execution_count": 16,
   "metadata": {
    "tags": [
     "outputPrepend"
    ]
   },
   "outputs": [
    {
     "output_type": "stream",
     "name": "stdout",
     "text": [
      "4, 259, 7594, 177, 93, 4, 446, 5, 2124, 7595, 3, 37, 7596, 82, 8, 7597, 445, 7598, 2, 1, 492, 110, 7599, 15, 1, 925, 7600, 7601, 97, 7602, 3, 1, 1293, 62, 1, 60, 195, 697, 2216, 2, 776, 38, 9, 275, 173, 5, 1, 7603, 1335, 7604, 158, 465, 1064, 7605, 12, 294, 465, 1625, 7606, 1386, 2, 7, 7607, 209, 33, 7608, 572, 20, 4, 2306, 2176, 9, 1, 7609, 140, 1, 2306, 146, 8, 126, 11, 4, 537, 26, 5, 7610, 29, 4, 7611, 2, 2212, 7612, 16, 191, 1, 1368, 7613, 16, 75, 34, 27, 7614, 21, 1, 1386, 126, 2188, 6, 7615, 572, 20, 503, 2, 1308, 38, 15, 233, 1387, 7616, 12, 1, 7617, 24, 288, 16, 28, 6, 380, 67, 112, 2, 1, 26, 30, 24, 67, 7618, 6, 380, 288, 161, 1, 1386, 448, 383, 18, 33, 7619, 12, 6, 80, 51, 98, 158, 1282, 53, 15, 39, 7620, 12, 7621, 1282, 1, 2297, 2, 18, 251, 95, 10, 93, 25, 7622, 7623, 291, 7624, 3, 7625, 2, 7626, 8, 69, 865, 147, 4, 820, 284, 21, 6, 81, 342, 900, 444, 9, 1205, 5, 14, 55, 520, 3, 27, 49, 7627, 2, 19, 7628, 6, 2289, 52, 16, 15, 7, 7629, 3, 7, 1632, 7630, 131, 938, 16, 7631, 9, 1773, 74, 22, 7, 7632, 16, 1950, 7633, 16, 15, 7, 2307, 16, 7634, 29, 3, 49, 1899, 1372, 7635, 29, 1, 501, 7636, 52, 76, 6, 1323, 7, 2307, 2, 7637, 20, 16, 9, 7638, 83, 62, 2098, 1252, 2, 28, 1156, 7639, 16, 7640, 40, 1221, 13, 36, 10, 96, 87, 10, 32, 7641, 5, 7642, 45, 10, 56, 34, 2080, 15, 112, 16, 1348, 914, 19, 7643, 20, 2160, 12, 45, 10, 2293, 3, 1907, 16, 7644, 44, 1, 2077, 7645, 60, 30, 909, 4, 338, 65, 24, 4, 60, 3, 1083, 22, 70, 2, 340, 18, 64, 946, 2299, 109, 1, 413, 2, 1, 65, 97, 52, 16, 2, 205, 112, 2, 7646, 947, 16, 276, 38, 9, 229, 7647, 12, 1, 7648, 67, 4, 59, 415, 2308, 2, 1, 60, 4, 59, 914, 1236, 7649, 637, 1, 488, 20, 2244, 25, 6, 230, 3, 129, 29, 22, 7, 7650, 6, 124, 23, 435, 3, 985, 4, 447, 47, 4, 329, 5, 1682, 317, 595, 81, 14, 2, 129, 7, 346, 22, 127, 1, 411, 8, 187, 7651, 2, 8, 59, 155, 110, 2, 7652, 23, 1, 7653, 162, 7654, 15, 1003, 71, 2063, 15, 7655, 1762, 1333, 229, 58, 97, 395, 2, 94, 3, 7, 7656, 6, 7657, 4, 304, 7658, 47, 68, 3, 194, 2, 18, 931, 15, 26, 7659, 320, 7660, 7, 217, 8, 9, 43, 7661, 1262, 12, 13, 7, 2158, 7662, 117, 4, 1623, 471, 1, 26, 30, 94, 4, 2094, 7663, 7, 1183, 30, 8, 629, 1, 117, 3, 27, 7664, 552, 14, 7665, 1, 7666, 98, 41, 34, 7667, 1017, 3, 7668, 28, 141, 7669, 641, 17, 118, 56, 7670, 19, 16, 126, 331, 166, 6, 8, 7671, 11, 20, 1, 381, 5, 4, 434, 490, 1, 395, 58, 2167, 7, 7672, 7673, 4, 882, 7674, 2309, 16, 32, 1090, 19, 2310, 19, 4, 7675, 9, 7676, 5, 7, 882, 6, 174, 1, 7677, 30, 24, 7678, 7, 7679, 1400, 28, 1, 1065, 298, 56, 10, 7680, 10, 48, 673, 47, 1318, 7681, 43, 7682, 1648, 116, 48, 203, 7683, 571, 309, 7684, 7685, 7686, 193, 1, 1369, 773, 18, 41, 7687, 277, 5, 7688, 2, 41, 2183, 31, 1, 7689, 5, 763, 1123, 458, 83, 87, 17, 1244, 1, 7690, 33, 287, 7691, 7692, 31, 1, 7693, 225, 18, 251, 95, 395, 209, 635, 386, 374, 5, 7694, 12, 243, 42, 7695, 3, 424, 38, 7696, 18, 7697, 3, 785, 10, 147, 15, 1, 568, 211, 17, 7698, 38, 13, 7699, 43, 514, 12, 4, 7700, 7701, 153, 1, 228, 2, 1, 335, 153, 7702, 15, 1349, 183, 395, 9, 7, 667, 2, 31, 1, 283, 216, 926, 50, 3, 1177, 104, 7, 1462, 15, 1, 1356, 5, 7703, 1, 72, 119, 76, 8, 4, 108, 1151, 11, 2196, 93, 7704, 252, 1, 149, 25, 6, 270, 1, 707, 5, 1, 65, 3, 7705, 2, 51, 98, 370, 2311, 13, 103, 41, 31, 85, 3, 96, 7706, 48, 1255, 1, 149, 30, 7707, 85, 360, 139, 2, 1831, 7708, 10, 48, 132, 176, 7709, 83, 62, 1, 60, 50, 9, 2, 148, 7710, 1254, 5, 1, 775, 1, 65, 7711, 20, 14, 9, 482, 7712, 6, 135, 3, 27, 805, 3, 7713, 7, 7714, 2, 51, 1216, 974, 38, 7715, 11, 10, 25, 79, 19, 574, 2311, 11, 31, 1, 68, 17, 2287, 159, 202, 3, 1, 7716, 2, 435, 3, 171, 4, 784, 11, 7717, 238, 158, 17, 405, 45, 10, 41, 109, 1233, 28, 1, 1830, 7718, 7719, 28, 1, 149, 238, 16, 32, 2250, 10, 185, 7720, 4, 7721, 7722, 311, 9, 7, 945, 140, 16, 32, 241, 7723, 1, 7724, 126, 3, 1, 72, 2, 690, 14, 373, 15, 26, 940, 7725, 7726, 9, 250, 3, 321, 1, 2304, 7727, 12, 1, 60, 7728, 28, 3, 257, 439, 55, 449, 5, 7729, 29, 7730, 2, 7731, 722, 8, 867, 145, 1, 495, 2, 8, 2116, 20, 7732, 23, 418, 6, 7733, 7734, 3, 1, 7735, 7736, 15, 1, 1356, 5, 2312, 1, 721, 5, 7737, 21, 7738, 70, 6, 512, 7, 319, 52, 1, 723, 2, 126, 107, 7739, 34, 3, 96, 127, 182, 8, 1363, 20, 76, 7740, 22, 7741, 2, 121, 312, 104, 233, 114, 25, 7742, 15, 31, 1, 7743, 6, 24, 7744, 86, 13, 3, 7745, 7746, 28, 2243, 7747, 34, 86, 2312, 2, 17, 66, 419, 10, 7748, 21, 103, 33, 22, 7749, 17, 247, 414, 13, 6, 8, 3, 27, 109, 9, 1, 1341, 7750, 60, 2, 1, 7751, 60, 2, 4, 2313, 33, 1910, 54, 42, 7752, 2, 236, 1828, 27, 1, 99, 1127, 5, 1, 2314, 1, 2313, 51, 777, 20, 7753, 7754, 10, 41, 137, 3, 575, 1974, 12, 1, 60, 2294, 725, 158, 27, 7755, 12, 40, 1435, 48, 7756, 7757, 60, 2, 1, 7758, 149, 9, 801, 1119, 4, 7759, 455, 8, 2315, 107, 23, 1, 7760, 177, 4, 106, 128, 7761, 9, 2053, 5, 7, 7762, 526, 1432, 7763, 2, 1915, 6, 859, 3, 7764, 22, 3, 7765, 47, 4, 7766, 19, 6, 183, 82, 423, 3, 1917, 4, 1199, 7767, 582, 22, 14, 2, 7768, 7, 2316, 7769, 11, 6, 2317, 554, 172, 3, 2268, 38, 732, 4, 7770, 81, 70, 2, 121, 45, 7771, 7772, 107, 1, 1377, 13, 33, 7773, 676, 12, 1, 7774, 253, 7775, 1139, 34, 22, 125, 7776, 11, 377, 1377, 7777, 42, 1346, 2, 48, 407, 59, 123, 47, 53, 7778, 266, 45, 7779, 38, 521, 189, 1199, 5, 351, 2034, 66, 85, 2, 7780, 1552, 2316, 17, 41, 1244, 2, 433, 53, 130, 4, 7781, 9, 40, 7782, 237, 2, 1, 7783, 237, 297, 59, 7784, 5, 4, 7785, 225, 1, 488, 7786, 23, 209, 19, 4, 509, 5, 7787, 36, 7788, 1, 1422, 2, 7789, 472, 9, 138, 2238, 23, 201, 46, 8, 59, 1859, 1717, 1, 196, 403, 5, 7790, 2128, 74, 26, 232, 333, 7791, 7792, 46, 259, 22, 3, 4, 1434, 5, 4, 226, 20, 7793, 2, 7794, 19, 610, 19, 46, 7795, 1, 549, 33, 9, 7796, 20, 1, 7797, 11, 18, 2074, 16, 262, 27, 4, 274, 7798, 211, 974, 163, 7799, 1, 7800, 28, 3, 7, 1564, 337, 31, 7801, 817, 103, 118, 105, 22, 130, 1366, 11, 269, 80, 4, 237, 2, 7802, 7803, 223, 30, 7804, 3, 27, 390, 18, 48, 34, 80, 7805, 234, 7806, 7807, 7808, 2318, 3, 27, 426, 3, 2319, 1, 797, 5, 1, 495, 23, 7809, 7810, 5, 36, 46, 1891, 7811, 1, 7812, 2, 46, 559, 7813, 2107, 2, 89, 4, 737, 7814, 35, 5, 161, 12, 229, 7815, 37, 5, 1257, 7816, 2, 177, 37, 87, 1, 7817, 7818, 13, 46, 100, 27, 111, 3, 740, 11, 7819, 15, 1, 7820, 8, 109, 1315, 2, 7821, 3, 7822, 2, 26, 5, 1, 7823, 3, 37, 19, 46, 8, 7824, 1, 7825, 98, 318, 10, 118, 2319, 7826, 5, 1, 1384, 116, 449, 112, 485, 13, 10, 41, 1032, 3, 7827, 7828, 5, 7829, 120, 58, 2, 7830, 120, 58, 310, 101, 4, 1166, 5, 7831, 9, 4, 734, 2, 591, 7832, 38, 7833, 6, 24, 4, 106, 128, 3, 2090, 2, 8, 7834, 35, 87, 880, 67, 79, 99, 71, 7835, 7836, 7, 874, 22, 1, 723, 7837, 52, 740, 3, 85, 2, 7838, 14, 47, 7, 217, 5, 7839, 7840, 33, 7841, 35, 5, 7, 473, 897, 79, 3, 7, 2245, 7842, 87, 14, 2, 2318, 7, 7843, 3, 1344, 127, 6, 7844, 2141, 35, 5, 7, 2320, 12, 6, 24, 213, 644, 5, 7845, 7846, 331, 2137, 421, 45, 975, 27, 25, 7847, 555, 306, 53, 29, 1608, 874, 7848, 7849, 1388, 511, 758, 6, 837, 2, 1674, 84, 7, 7850, 5, 599, 2321, 878, 7851, 36, 6, 1149, 7852, 9, 4, 1278, 142, 78, 6, 7853, 206, 20, 112, 2, 61, 735, 1443, 106, 1017, 7854, 134, 7855, 26, 5, 7, 209, 414, 7, 7856, 7857, 3, 1, 7858, 26, 78, 726, 14, 2, 7859, 7, 7860, 792, 7861, 6, 64, 26, 382, 2, 1504, 29, 1, 599, 2, 372, 161, 2322, 1, 1388, 1472, 1, 200, 19, 808, 74, 442, 7, 7862, 97, 3, 2004, 7, 564, 2, 1770, 134, 7, 1223, 9, 7863, 6, 8, 296, 23, 26, 5, 7, 2227, 30, 121, 14, 2220, 633, 557, 1, 1388, 320, 14, 5, 7, 7864, 12, 1, 7865, 711, 91, 16, 25, 79, 3, 7866, 40, 1221, 111, 4, 7867, 790, 7868, 2, 91, 4, 206, 20, 16, 142, 2274, 10, 251, 27, 125, 611, 7869, 607, 11, 172, 21, 10, 24, 39, 599, 16, 8, 5, 43, 7870, 7871, 2194, 923, 2, 1, 7872, 304, 5, 923, 7873, 22, 1, 624, 5, 4, 517, 2, 569, 7874, 12, 1, 2323, 8, 25, 724, 2, 1, 277, 221, 25, 482, 7875, 13, 18, 244, 986, 3, 56, 348, 12, 299, 360, 1, 7876, 26, 189, 34, 3, 27, 7877, 20, 117, 26, 5, 163, 7878, 1, 568, 2, 308, 116, 7879, 6, 494, 51, 73, 136, 34, 4, 7880, 370, 268, 2177, 529, 44, 1, 7881, 6, 24, 43, 7882, 25, 71, 1, 2323, 2315, 14, 93, 7, 7883, 21, 1, 577, 1747, 131, 177, 7884, 18, 156, 711, 105, 2, 433, 7885, 7886, 2, 308, 165, 102, 103, 167, 118, 774, 15, 7887, 12, 6, 7888, 240, 17, 231, 7889, 17, 314, 3, 105, 3, 1, 7890, 2, 76, 7891, 91, 53, 82, 7892, 21, 17, 85, 146, 268, 308, 10, 7893, 192, 2, 1, 7894, 8, 69, 4, 192, 30, 224, 3, 7895, 9, 4, 937, 36, 6, 24, 7896, 378, 12, 26, 78, 4, 197, 50, 44, 1, 962, 2, 28, 6, 7897, 108, 4, 529, 3, 315, 82, 19, 1, 493, 2, 7898, 714, 31, 2273, 2229, 11, 378, 1, 493, 1093, 3, 27, 1279, 52, 7899, 7900, 64, 3, 4, 58, 2, 121, 45, 6, 61, 306, 14, 7901, 35, 1, 2169, 2198, 28, 1, 278, 73, 66, 23, 31, 7902, 12, 7903, 80, 56, 25, 45, 10, 95, 53, 111, 4, 7904, 9, 39, 473, 2, 2133, 7905, 7906, 1, 192, 410, 3, 227, 2, 1, 170, 292, 59, 7907, 1, 197, 35, 5, 1, 7908, 12, 21, 13, 8, 7909, 1, 7910, 3, 7, 7911, 13, 9, 1, 58, 6, 24, 67, 4, 188, 11, 7912, 60, 2, 1, 7913, 287, 7, 128, 286, 4, 1193, 4, 60, 717, 7, 7914, 2, 7915, 4, 539, 3, 987, 101, 47, 7916, 7917, 6, 67, 7918, 2, 9, 693, 6, 280, 3, 1, 653, 393, 8, 39, 7919, 7920, 2, 96, 116, 10, 41, 1389, 609, 1338, 210, 41, 7921, 1, 653, 7922, 70, 133, 98, 185, 41, 7923, 2320, 40, 218, 3, 359, 20, 160, 30, 136, 648, 247, 672, 7924, 60, 2, 1, 981, 1379, 9, 1130, 4, 455, 8, 177, 107, 23, 1, 7925, 7926, 3, 7927, 22, 3, 4, 1166, 5, 7928, 36, 8, 7929, 344, 966, 328, 177, 20, 4, 138, 1476, 7930, 4, 60, 110, 173, 7931, 47, 1, 624, 19, 16, 64, 1531, 2159, 2, 270, 331, 7932, 7933, 7934, 1, 7935, 153, 1, 149, 2, 1, 1281, 65, 183, 395, 9, 7, 667, 423, 3, 826, 101, 15, 1204, 930, 28, 3, 7, 246, 1, 149, 30, 50, 3, 405, 116, 6, 2119, 198, 7936, 17, 330, 10, 61, 105, 3, 7937, 734, 2, 7938, 1, 347, 7939, 1754, 506, 3, 85, 3, 40, 7940, 17, 41, 4, 2285, 3, 88, 40, 7941, 4, 7942, 1124, 2, 7943, 1, 60, 64, 3, 1, 734, 2, 109, 7944, 2, 28, 3, 70, 198, 345, 421, 623, 9, 7945, 10, 215, 1, 7946, 7947, 272, 589, 20, 1, 1181, 5, 1269, 2, 263, 1227, 10, 7948, 3, 1209, 134, 1, 2127, 17, 899, 10, 251, 1311, 13, 17, 1861, 181, 3, 467, 10, 1, 108, 7949, 2, 187, 17, 185, 27, 159, 146, 7950, 74, 45, 10, 91, 40, 691, 323, 85, 167, 2, 27, 15, 14, 519, 7951, 1, 197, 8, 7952, 7953, 2, 1303, 1, 60, 3, 7954, 667, 2072, 1471, 43, 210, 24, 6, 67, 385, 71, 1501, 901, 52, 70, 12, 6, 7955, 7, 1452, 2, 1, 197, 7956, 15, 80, 7, 1292, 7957, 2, 670, 19, 438, 19, 6, 75, 3, 7958, 5, 1, 2179, 1, 60, 8, 79, 7959, 2, 1, 153, 7960, 1500, 7961, 11, 6, 8, 309, 59, 351, 9, 7962, 7, 7963, 25, 6, 135, 1, 60, 3, 41, 189, 321, 20, 7964, 197, 3, 7, 2173, 7965, 27, 515, 1570, 76, 7966, 28, 7967, 255, 268, 7968, 2, 93, 6, 64, 3, 1, 734, 4, 580, 194, 2305, 1, 197, 7969, 2, 435, 3, 630, 47, 7, 1727, 19, 7970, 6, 81, 1, 60, 6, 156, 98, 7971, 55, 56, 10, 708, 23, 7972, 7973, 53, 3, 40, 740, 86, 2295, 91, 311, 521, 176, 268, 56, 7974, 740, 15, 40, 7975, 12, 1, 60, 8, 904, 7976, 180, 7977, 10, 7978, 28, 1938, 1380, 10, 244, 204, 1, 65, 674, 7979, 312, 6, 8, 80, 159, 3, 7980, 63, 2291, 7981, 44, 7982, 21, 10, 64, 93, 86, 4, 2002, 7983, 10, 41, 416, 7984, 2, 254, 34, 383, 6, 251, 88, 1, 72, 267, 7985, 706, 7986, 146, 20, 69, 2, 308, 2181, 67, 63, 7987, 17, 459, 10, 7988, 908, 139, 2, 17, 66, 27, 39, 7989, 7990, 1, 197, 7991, 213, 3, 27, 1362, 3, 7992, 2, 76, 68, 1, 65, 7993, 7994, 12, 7995, 70, 2, 7996, 529, 7997, 52, 7998, 1, 149, 1288, 726, 7, 524, 74, 21, 1, 7999, 2309, 8000, 107, 1, 8001, 3, 871, 14, 11, 7, 8002, 1, 65, 124, 2324, 11, 163, 5, 374, 8003, 2, 1, 149, 30, 8, 912, 70, 51, 73, 152, 204, 8004, 243, 39, 341, 11, 1, 8005, 4, 613, 30, 929, 498, 2321, 339, 1296, 231, 41, 67, 8006, 58, 30, 179, 7, 8007, 58, 8, 710, 9, 8008, 134, 7, 1982, 2, 26, 78, 22, 8009, 169, 6, 717, 7, 8010, 450, 16, 158, 41, 114, 1387, 23, 974, 7, 8011, 6, 8012, 38, 2060, 12, 18, 26, 2, 8013, 125, 8014, 5, 161, 6, 8, 34, 2143, 23, 42, 8015, 8016, 13, 18, 100, 31, 105, 3, 1, 560, 2, 91, 8017, 9, 4, 8018, 18, 33, 34, 1315, 5, 1, 8019, 76, 8, 225, 6, 24, 8020, 2030, 5, 1, 2048, 593, 8021, 12, 119, 13, 8022, 61, 34, 1771, 8023, 23, 1, 8024, 495, 5, 1, 1305, 1814, 67, 385, 1, 8025, 1, 181, 401, 18, 148, 8, 1, 8026, 1934, 4, 871, 11, 8027, 54, 4, 307, 30, 8028, 390, 47, 1, 1304, 2147, 1431, 28, 1, 58, 8029, 393, 8030, 53, 17, 24, 162, 105, 146, 178, 343, 45, 377, 8031, 231, 8032, 1, 889, 30, 985, 47, 42, 122, 8033, 8034, 1334, 18, 118, 419, 53, 30, 372, 40, 8035, 2325, 2, 1, 8036, 598, 110, 4, 2325, 9, 7, 8037, 2, 8, 83, 54, 3, 8038, 507, 21, 16, 89, 4, 8039, 8040, 3, 14, 3, 523, 115, 217, 968, 849, 34, 249, 160, 12, 95, 53, 199, 2, 17, 66, 1049, 10, 11, 8041, 23, 8042, 90, 8043, 44, 39, 8044, 1250, 28, 8045, 73, 66, 34, 523, 1253, 17, 8, 159, 3, 249, 10, 8046, 8047, 13, 8048, 8049, 10, 872, 712, 39, 2028, 8050, 8051, 1256, 131, 916, 15, 7, 2093, 195, 107, 47, 7, 716, 1201, 155, 717, 23, 1, 1065, 30, 179, 43, 68, 9, 8052, 7, 8053, 2269, 35, 9, 8054, 5, 1, 8055, 6, 175, 50, 29, 8056, 2, 1, 1256, 9, 1, 899, 5, 8057, 1630, 532, 44, 8058, 2, 816, 101, 602, 8059, 28, 7, 663, 439, 8060, 200, 11, 139, 40, 8061, 411, 2, 1, 1483, 411, 8, 2324, 9, 1, 926, 11, 1, 8062, 5, 4, 153, 1524, 173, 175, 5, 4, 454, 710, 9, 1484, 4, 592, 836, 29, 3, 14, 2, 121, 14, 45, 6, 24, 414, 4, 339, 8063, 838, 176, 45, 6, 2111, 102, 7, 1296, 557, 1, 454, 8064, 10, 66, 85, 15, 160, 17, 66, 308, 10, 1, 65, 8065, 8066, 126, 2310, 15, 1366, 2, 7, 486, 8067, 19, 6, 8068, 254, 34, 341, 11, 1, 153, 8069, 12, 80, 11, 7, 8070, 745, 2, 1, 8071, 154, 1317, 84, 52, 4, 745, 2, 302, 16, 9, 7, 8072, 2326, 1989, 5, 264, 16, 93, 2, 1633, 161, 12, 1, 745, 2317, 1307, 11, 14, 2, 24, 115, 8073, 202, 14, 9, 4, 8074, 2, 8075, 8076, 4, 8077, 1842, 276, 1, 2314, 4, 8078, 8, 4, 8079, 5, 1, 8080, 50, 3, 1, 8081, 5, 2021, 2, 525, 9, 8082, 14, 47, 1, 745, 2, 8083, 1837, 8084, 9, 2066, 1, 745, 8085, 63, 5, 7, 2110, 44, 8086, 8087, 8088, 15, 7, 2204, 1, 58, 8, 54, 8089, 7, 1520, 15, 4, 8090, 47, 1, 8091, 21, 1, 154, 8092, 35, 5, 7, 579, 2, 8093, 115, 8094, 52, 1, 8095, 26, 108, 462, 8096, 8097, 2327, 2, 1, 8098, 2327, 747, 4, 1961, 13, 6, 61, 1141, 1, 2328, 20, 8099, 3, 8100, 23, 8101, 47, 16, 4, 1335, 1672, 3, 49, 8102, 8103, 25, 6, 64, 3, 1, 8104, 22, 1, 1227, 78, 15, 4, 8105, 9, 7, 579, 36, 6, 949, 191, 1, 8106, 5, 7, 8107, 121, 420, 55, 6, 472, 9, 7, 300, 33, 8108, 176, 603, 45, 8109, 28, 8110, 6, 674, 3, 1583, 1, 509, 8111, 45, 1, 8112, 8113, 6, 924, 3, 1159, 115, 507, 2, 308, 16, 3, 27, 603, 317, 2328, 8, 26, 167, 427, 11, 70, 11, 1, 1669, 6, 67, 8, 8114, 420, 1, 401, 13, 10, 632, 9, 39, 300, 27, 8115, 373, 32, 4, 1113, 13, 8116, 904, 22, 39, 122, 8117, 192, 2, 1, 590, 493, 1414, 5, 7, 164, 8118, 174, 49, 57, 22, 1, 8119, 8120, 57, 15, 7, 392, 874, 8121, 8122, 35, 5, 1, 128, 3, 95, 8123, 1, 192, 280, 35, 8124, 13, 6, 75, 2256, 8125, 14, 3, 88, 14, 719, 8126, 1, 57, 472, 7, 8127, 12, 2292, 1311, 1, 1368, 8128, 34, 106, 581, 1, 192, 8129, 2, 8, 511, 23, 7, 480, 3, 4, 8130, 26, 232, 19, 1201, 1799, 4, 8131, 6, 174, 1, 57, 214, 30, 9, 462, 8132, 1163, 51, 8133, 10, 92, 119, 3, 85, 3, 227, 150, 139, 10, 8134, 25, 8135, 102, 48, 31, 39, 8136, 8137, 2290, 113, 977, 4, 477, 113, 8, 977, 4, 228, 2, 19, 6, 195, 6, 119, 55, 4, 164, 8138, 494, 2, 55, 724, 356, 6, 837, 2, 116, 538, 18, 8139, 8140, 8141, 2031, 76, 8142, 6, 28, 3, 257, 180, 4, 8143, 6, 8144, 589, 43, 575, 11, 160, 2, 6, 2281, 16, 2, 25, 6, 8145, 12, 1, 72, 221, 202, 83, 62, 2, 51, 711, 8146, 254, 324, 107, 47, 139, 40, 1261, 269, 39, 188, 8147, 8148, 2, 7, 8149, 182, 8, 8150, 1, 2303, 495, 42, 8151, 16, 8152, 13, 2329, 8, 34, 627, 15, 1, 1963, 12, 21, 31, 8153, 42, 2308, 6, 167, 666, 2, 1010, 7, 8154, 182, 1239, 4, 698, 3, 215, 55, 3, 651, 11, 82, 8, 137, 258, 11, 8155, 20, 117, 6, 749, 13, 3, 14, 100, 8156, 1, 2330, 8157, 2331, 11, 1, 603, 328, 16, 32, 1, 196, 15, 2329, 19, 16, 32, 2326, 90, 1384, 1, 99, 8158, 209, 8159, 3, 14, 7, 8160, 8161, 2241, 32, 6, 5, 13, 36, 6, 263, 3, 8162, 16, 32, 34, 8163, 3, 8164, 106, 11, 1, 8165, 943, 2182, 1350, 8166, 32, 9, 190, 8167, 66, 27, 1307, 3, 964, 673, 1247, 8168, 8169, 1, 2332, 2, 1, 8170, 1786, 9, 4, 229, 2333, 33, 8171, 23, 4, 2332, 30, 2259, 2, 62, 1317, 84, 2, 177, 93, 26, 5, 42, 2084, 25, 8172, 4, 989, 44, 1, 2333, 3, 8173, 38, 252, 42, 8174, 18, 155, 8175, 5, 42, 8176, 11, 1, 989, 205, 99, 1921, 9, 4, 78, 71, 1, 8177, 24, 388, 9, 4, 8178, 273, 2, 1, 1997, 1853, 30, 24, 1326, 179, 37, 1374, 224, 3, 105, 142, 78, 3, 8179, 2, 8180, 37, 1223, 4, 1146, 30, 8, 710, 9, 1720, 8181, 47, 1, 1361, 129, 319, 52, 1, 273, 2, 8182, 3, 41, 8183, 7, 8184, 25, 6, 258, 7, 1383, 2, 50, 2, 261, 23, 37, 8185, 124, 3, 2331, 2330, 378, 46, 121, 14, 222, 6, 8186, 2, 1081, 73, 41, 1326, 179, 40, 1790, 30, 8, 59, 345, 3, 160, 8187, 1603, 40, 8188, 238, 8189, 28, 778, 8190, 179, 40, 8191, 1137, 11, 4, 140, 18, 8192, 9, 8193, 62, 6, 51, 8194, 10, 2, 2013, 9, 86, 1183, 157, 103, 34, 56, 132, 3, 1203, 2, 199, 8195, 1232, 91, 1, 200, 5, 39, 373, 1374, 2, 139, 13, 5, 40, 8196, 1, 273, 8197, 3, 1, 1970, 36, 1240, 798, 8198, 2, 18, 2230, 42, 1807, 1288, 4, 307, 24, 2105, 1387, 1, 282, 36, 1, 186, 24, 258, 15, 7, 1722, 8199, 1, 1314, 6, 2172, 7, 1942, 2, 1175, 8200, 8201, 21, 1, 273, 148, 7, 8202, 46, 50, 2, 51, 764, 48, 8203, 8204, 3, 36, 6, 133, 1161, 2, 17, 708, 16, 76, 8205, 2, 1, 287, 5, 8206, 1, 1732, 5, 418, 8207, 129, 54, 1, 8208, 5, 2283, 1, 90, 1894, 418, 333, 13, 1345, 1, 80, 8209, 33, 295, 8210, 23, 1, 8211, 687, 552, 8212, 1, 8213, 23, 561, 63, 5, 1, 488, 44, 8214, 8215, 19, 6, 8, 8216, 2, 76, 32, 1, 787, 222, 63, 362, 41, 8217, 5, 209, 12, 1, 8218, 5, 2302, 616, 2, 1, 1433, 616, 8, 69, 841, 3, 4, 237, 54, 37, 8219, 73, 8, 69, 8220, 28, 778, 290, 1085, 5, 4, 267, 5, 2277, 12, 40, 8221, 53, 8222, 2, 310, 35, 40, 8223, 11, 4, 8224, 8225, 485, 2280, 53, 47, 1353, 8226, 17, 8, 126, 23, 1889, 44, 4, 8227, 8228, 397, 213, 19, 16, 2103, 28, 1, 8229, 180, 10, 2064, 114, 86, 45, 10, 380, 179, 39, 8230, 17, 231, 8231, 411, 2, 1, 8232, 411, 64, 35, 104, 1268, 2, 525, 9, 672, 4, 431, 2178, 8, 264, 178, 15, 14, 21, 6, 174, 4, 58, 22, 8233, 30, 907, 70, 98, 41, 24, 63, 1054, 17, 370, 771, 2, 688, 3, 536, 8234, 411, 967, 8235, 12, 1, 8236, 24, 43, 210, 67, 8237, 9, 7, 516, 71, 6, 129, 8238, 3, 7, 192, 2, 64, 93, 20, 8239, 1, 411, 195, 104, 14, 11, 63, 123, 8240, 12, 16, 8241, 52, 14, 13, 6, 24, 114, 8242, 2, 6, 143, 29, 435, 8243, 1, 1980, 74, 3, 987, 7, 8244, 270, 104, 14, 19, 8245, 6, 1249, 833, 979, 421, 31, 979, 91, 39, 8246, 16, 8, 8247, 147, 19, 4, 8248, 983, 2, 1, 208, 8249, 983, 8, 1133, 7, 496, 35, 20, 2334, 21, 6, 81, 4, 8250, 208, 496, 1322, 2, 8251, 15, 7, 8252, 20, 1, 381, 5, 8253, 6, 559, 38, 178, 2, 111, 38, 31, 44, 1, 8254, 379, 2322, 1, 1120, 8, 25, 274, 13, 6, 75, 34, 91, 38, 35, 19, 8255, 6, 285, 38, 20, 178, 9, 1, 8256, 2, 1285, 38, 602, 6, 80, 8257, 122, 496, 213, 474, 3, 424, 38, 47, 8258, 12, 6, 143, 8259, 496, 19, 79, 19, 18, 75, 242, 2, 8260, 11, 6, 8, 59, 8261, 38, 3, 1357, 2, 6, 119, 13, 45, 6, 1285, 38, 132, 8262, 314, 3, 433, 127, 21, 1, 1120, 8263, 6, 94, 8264, 35, 3, 2334, 8265, 12, 43, 210, 24, 18, 67, 360, 1, 8266, 1, 208, 496, 332, 107, 47, 1, 329, 2, 2046, 732, 8267, 8, 59, 79, 1241, 20, 227, 2, 8268, 8269, 38, 8270, 8271, 8272, 6, 156, 847, 394, 107, 86, 13, 1461, 128, 566, 1389, 2217, 530, 227, 26, 5, 38, 126, 202, 968, 253, 1251, 10, 1389, 165, 31, 8273, 272, 9, 8274, 16, 8275, 13, 13, 111, 165, 22, 203, 8276, 45, 10, 8277, 8278, 8279, 25, 79, 162, 71, 39, 122, 612, 269, 99, 71, 8280, 45, 189, 2222, 5, 1153, 496, 1789, 1280, 8281, 100, 8282, 1919, 9, 957, 5, 1, 117, 8283, 936, 2, 1, 1465, 8284, 8285, 15, 4, 1888, 1224, 37, 3, 8286, 8287, 8288, 102, 46, 89, 37, 2187, 2, 3, 85, 2, 199, 15, 8289, 751, 2, 492, 191, 1, 696, 5, 42, 8290, 12, 8291, 133, 8292, 8, 21, 17, 576, 86, 1924, 363, 8293, 12, 1, 8294, 5, 1, 952, 8295, 17, 62, 2282, 1263, 8296, 3, 160, 2, 92, 245, 66, 17, 1322, 42, 8297, 1, 8298, 5, 8299, 1972, 8300, 8301, 8302, 551, 2, 1719, 803, 969, 15, 8303, 104, 4, 106, 1214, 942, 84, 519, 59, 8304, 5, 4, 482, 132, 2, 175, 97, 1276, 6, 8, 8305, 8306, 5, 1291, 316, 21, 8307, 499, 520, 3, 14, 2, 8308, 22, 1, 8309, 8310, 14, 3, 719, 1353, 550, 8311, 8312, 421, 17, 555, 1287, 46, 683, 2286, 10, 1495, 44, 1, 272, 8313, 61, 41, 114, 671, 34, 22, 39, 122, 689, 12, 22, 160, 8314]\n"
     ]
    }
   ],
   "source": [
    "print(tokenizer.word_index)\n",
    "print(token_list)"
   ]
  },
  {
   "cell_type": "code",
   "execution_count": 18,
   "metadata": {},
   "outputs": [
    {
     "output_type": "stream",
     "name": "stdout",
     "text": [
      "Number of sequences: 34904 \n\n"
     ]
    }
   ],
   "source": [
    "def generate_sequence(token_list, step):\n",
    "    X = []\n",
    "    y = []\n",
    "\n",
    "    for i in range(0, len(token_list) - seq_length,step):\n",
    "        X.append(token_list[i:i + seq_length])\n",
    "        y.append(token_list[i + seq_length])\n",
    "\n",
    "    y = to_categorical(y, num_classes= total_words)\n",
    "\n",
    "    num_seq = len(X)\n",
    "    print('Number of sequences:', num_seq,\"\\n\")\n",
    "\n",
    "    return X,y,num_seq \n",
    "\n",
    "step = 1\n",
    "seq_length = 20\n",
    "X,y,num_seq = generate_sequence(token_list,step)\n",
    "\n",
    "X = np.array(X)\n",
    "y = np.array(y)"
   ]
  },
  {
   "cell_type": "code",
   "execution_count": 19,
   "metadata": {},
   "outputs": [
    {
     "output_type": "execute_result",
     "data": {
      "text/plain": [
       "(34904, 20)"
      ]
     },
     "metadata": {},
     "execution_count": 19
    }
   ],
   "source": [
    "X.shape"
   ]
  },
  {
   "cell_type": "code",
   "execution_count": 20,
   "metadata": {},
   "outputs": [
    {
     "output_type": "execute_result",
     "data": {
      "text/plain": [
       "(34904, 8315)"
      ]
     },
     "metadata": {},
     "execution_count": 20
    }
   ],
   "source": [
    "y.shape"
   ]
  },
  {
   "cell_type": "code",
   "execution_count": 23,
   "metadata": {},
   "outputs": [],
   "source": [
    "if load_save_model:\n",
    "    # model = load_model('./saved_models/lstm_aesop_1.h5')\n",
    "    model = load_model('./saved_models/aesop_dropout_100.h5')\n",
    "\n",
    "else:\n",
    "\n",
    "    n_units = 256\n",
    "    embedding_size = 100\n",
    "\n",
    "    text_in = Input(shape = (None,))\n",
    "    embedding = Embedding(total_words, embedding_size)\n",
    "    x = embedding(text_in)\n",
    "    x = LSTM(n_units)(x)\n",
    "    # x = Dropout(0.2)(x)\n",
    "    text_out = Dense(total_words, activation = 'softmax')(x)\n",
    "\n",
    "    model = Model(text_in, text_out)\n",
    "\n",
    "    opti = RMSprop(lr = 0.001)\n",
    "    model.compile(loss='categorical_crossentropy', optimizer=opti)"
   ]
  },
  {
   "cell_type": "code",
   "execution_count": 24,
   "metadata": {},
   "outputs": [
    {
     "output_type": "stream",
     "name": "stdout",
     "text": [
      "Model: \"model\"\n_________________________________________________________________\nLayer (type)                 Output Shape              Param #   \n=================================================================\ninput_1 (InputLayer)         [(None, None)]            0         \n_________________________________________________________________\nembedding (Embedding)        (None, None, 100)         831500    \n_________________________________________________________________\nlstm (LSTM)                  (None, 256)               365568    \n_________________________________________________________________\ndense (Dense)                (None, 8315)              2136955   \n=================================================================\nTotal params: 3,334,023\nTrainable params: 3,334,023\nNon-trainable params: 0\n_________________________________________________________________\n"
     ]
    }
   ],
   "source": [
    "model.summary()"
   ]
  },
  {
   "cell_type": "code",
   "execution_count": null,
   "metadata": {},
   "outputs": [],
   "source": []
  }
 ]
}