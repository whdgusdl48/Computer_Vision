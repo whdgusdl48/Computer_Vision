{
 "metadata": {
  "language_info": {
   "codemirror_mode": {
    "name": "ipython",
    "version": 3
   },
   "file_extension": ".py",
   "mimetype": "text/x-python",
   "name": "python",
   "nbconvert_exporter": "python",
   "pygments_lexer": "ipython3",
   "version": "3.6.9-final"
  },
  "orig_nbformat": 2,
  "kernelspec": {
   "name": "python36964bitpy36venve2b7835506d24c4589ed71b31afa3c33",
   "display_name": "Python 3.6.9 64-bit ('py36': venv)",
   "language": "python"
  }
 },
 "nbformat": 4,
 "nbformat_minor": 2,
 "cells": [
  {
   "source": [
    "import os\n",
    "import numpy as np\n",
    "import matplotlib.pyplot as plt\n",
    "import cv2\n",
    "from tensorflow.keras.utils import to_categorical\n",
    "from tensorflow.keras.datasets import mnist\n",
    "from tensorflow.keras.models import Sequential, Model\n",
    "from tensorflow.keras.layers import Input, Flatten, Dense,LeakyReLU,Conv2D,Reshape,Conv2DTranspose,Lambda,BatchNormalization,Dropout,ReLU,Concatenate,UpSampling2D\n",
    "from tensorflow.keras.optimizers import Adam\n",
    "import tensorflow as tf\n",
    "import tensorflow.keras.backend as K\n",
    "from tensorflow_addons.layers import InstanceNormalization\n",
    "\n",
    "gpus = tf.config.experimental.list_physical_devices('GPU')\n",
    "if gpus:\n",
    "  try:\n",
    "    # Currently, memory growth needs to be the same across GPUs\n",
    "    for gpu in gpus:\n",
    "      tf.config.experimental.set_memory_growth(gpu, True)\n",
    "    logical_gpus = tf.config.experimental.list_logical_devices('GPU')\n",
    "    print(len(gpus), \"Physical GPUs,\", len(logical_gpus), \"Logical GPUs\")\n",
    "  except RuntimeError as e:\n",
    "    # Memory growth must be set before GPUs have been initialized\n",
    "    print(1)"
   ],
   "cell_type": "code",
   "metadata": {},
   "execution_count": 1,
   "outputs": [
    {
     "output_type": "stream",
     "name": "stdout",
     "text": [
      "2 Physical GPUs, 2 Logical GPUs\n"
     ]
    }
   ]
  },
  {
   "cell_type": "code",
   "execution_count": 2,
   "metadata": {},
   "outputs": [
    {
     "output_type": "stream",
     "name": "stdout",
     "text": [
      "['trainA', 'testB', 'trainB', 'testA']\n"
     ]
    }
   ],
   "source": [
    "img_path = os.path.join('./apple2orange/')\n",
    "img_list = os.listdir(img_path)\n",
    "print(img_list)"
   ]
  },
  {
   "cell_type": "code",
   "execution_count": 3,
   "metadata": {},
   "outputs": [
    {
     "output_type": "stream",
     "name": "stdout",
     "text": [
      "(995, 128, 128, 3) (1019, 128, 128, 3)\n"
     ]
    }
   ],
   "source": [
    "data_A = []\n",
    "data_B = []\n",
    "arr = ['trainA','trainB']\n",
    "for i in range(len(arr)):\n",
    "    path = img_path + arr[i]\n",
    "    img_dir = os.listdir(path)\n",
    "    for j in range(len(img_dir)):\n",
    "        img = cv2.imread(path + \"/\" + img_dir[j])\n",
    "        img = cv2.cvtColor(img,cv2.COLOR_BGR2RGB)\n",
    "        img = cv2.resize(img,(128,128),interpolation = cv2.INTER_CUBIC)\n",
    "        if i == 0:\n",
    "            data_A.append(img)\n",
    "        else:\n",
    "            data_B.append(img)\n",
    "\n",
    "data_A = np.array(data_A)\n",
    "data_B = np.array(data_B)\n",
    "data_A = data_A / 255.0\n",
    "data_B = data_B / 255.0\n",
    "print(data_A.shape, data_B.shape)"
   ]
  },
  {
   "cell_type": "code",
   "execution_count": 4,
   "metadata": {},
   "outputs": [],
   "source": [
    "## make A,B, G_AB, G_BA\n",
    "\n",
    "def build_descriminator(input_shape = (128,128,3)):\n",
    "    input = Input(shape=input_shape)\n",
    "    x = input\n",
    "    stride = [2,2,2,1]\n",
    "    filter = [32,64,128,256]\n",
    "    for i in range(len(stride)):\n",
    "        if i == 0:\n",
    "            x = Conv2D(filters=filter[i],strides=stride[i],kernel_size=4, padding='same')(x)\n",
    "            x = LeakyReLU()(x)\n",
    "        else:\n",
    "            x = Conv2D(filters=filter[i],strides=stride[i],kernel_size=4, padding='same')(x)\n",
    "            x = InstanceNormalization(axis = -1, center = False, scale = False)(x)\n",
    "            x = LeakyReLU()(x)\n",
    "    output = Conv2D(filters=1,kernel_size=4,strides=1,padding='same')(x)\n",
    "    model = Model(input,output)\n",
    "    return model            \n"
   ]
  },
  {
   "cell_type": "code",
   "execution_count": 5,
   "metadata": {},
   "outputs": [
    {
     "output_type": "stream",
     "name": "stdout",
     "text": [
      "Model: \"model\"\n_________________________________________________________________\nLayer (type)                 Output Shape              Param #   \n=================================================================\ninput_1 (InputLayer)         [(None, 128, 128, 3)]     0         \n_________________________________________________________________\nconv2d (Conv2D)              (None, 64, 64, 32)        1568      \n_________________________________________________________________\nleaky_re_lu (LeakyReLU)      (None, 64, 64, 32)        0         \n_________________________________________________________________\nconv2d_1 (Conv2D)            (None, 32, 32, 64)        32832     \n_________________________________________________________________\ninstance_normalization (Inst (None, 32, 32, 64)        0         \n_________________________________________________________________\nleaky_re_lu_1 (LeakyReLU)    (None, 32, 32, 64)        0         \n_________________________________________________________________\nconv2d_2 (Conv2D)            (None, 16, 16, 128)       131200    \n_________________________________________________________________\ninstance_normalization_1 (In (None, 16, 16, 128)       0         \n_________________________________________________________________\nleaky_re_lu_2 (LeakyReLU)    (None, 16, 16, 128)       0         \n_________________________________________________________________\nconv2d_3 (Conv2D)            (None, 16, 16, 256)       524544    \n_________________________________________________________________\ninstance_normalization_2 (In (None, 16, 16, 256)       0         \n_________________________________________________________________\nleaky_re_lu_3 (LeakyReLU)    (None, 16, 16, 256)       0         \n_________________________________________________________________\nconv2d_4 (Conv2D)            (None, 16, 16, 1)         4097      \n=================================================================\nTotal params: 694,241\nTrainable params: 694,241\nNon-trainable params: 0\n_________________________________________________________________\n"
     ]
    }
   ],
   "source": [
    "test = build_descriminator()\n",
    "test.summary()"
   ]
  },
  {
   "cell_type": "code",
   "execution_count": 6,
   "metadata": {},
   "outputs": [],
   "source": [
    "def downsample(layer_input, filters, f_size=4):\n",
    "    d = Conv2D(filters, kernel_size=f_size, strides=2, padding='same')(layer_input)\n",
    "    d = InstanceNormalization(axis = -1, center = False, scale = False)(d)\n",
    "    d = ReLU()(d)\n",
    "    return d\n",
    "\n",
    "def upsample(layer_input, skip_input, filters, f_size=4, dropout_rate=0):\n",
    "    u = UpSampling2D(size=2)(layer_input)\n",
    "    u = Conv2D(filters, kernel_size=f_size, strides=1, padding='same')(u)\n",
    "    u = InstanceNormalization(axis = -1, center = False, scale = False)(u)\n",
    "    u = ReLU()(u)\n",
    "    if dropout_rate:\n",
    "        u = Dropout(dropout_rate)(u)\n",
    "    u = Concatenate()([u, skip_input])\n",
    "    return u\n",
    "\n",
    "def build_generator_unet(input_shape=(128,128,3),filter=32):\n",
    "    input = Input(shape=input_shape)\n",
    "    \n",
    "    d1 = downsample(input,filters=filter)\n",
    "    d2 = downsample(d1,filters=filter * 2)\n",
    "    d3 = downsample(d2,filters=filter * 4)\n",
    "    d4 = downsample(d3,filters=filter * 8)\n",
    "\n",
    "    u1 = upsample(d4,d3,filters=filter * 4)\n",
    "    u2 = upsample(u1,d2,filters=filter * 2)\n",
    "    u3 = upsample(u2,d1,filters=filter)\n",
    "\n",
    "    u4 = UpSampling2D(size=2)(u3)\n",
    "    output = Conv2D(filters=3, kernel_size=4, strides=1,padding='same')(u4)\n",
    "\n",
    "    return Model(input,output)"
   ]
  },
  {
   "cell_type": "code",
   "execution_count": 7,
   "metadata": {},
   "outputs": [
    {
     "output_type": "stream",
     "name": "stdout",
     "text": [
      "Model: \"model_1\"\n__________________________________________________________________________________________________\nLayer (type)                    Output Shape         Param #     Connected to                     \n==================================================================================================\ninput_2 (InputLayer)            [(None, 128, 128, 3) 0                                            \n__________________________________________________________________________________________________\nconv2d_5 (Conv2D)               (None, 64, 64, 32)   1568        input_2[0][0]                    \n__________________________________________________________________________________________________\ninstance_normalization_3 (Insta (None, 64, 64, 32)   0           conv2d_5[0][0]                   \n__________________________________________________________________________________________________\nre_lu (ReLU)                    (None, 64, 64, 32)   0           instance_normalization_3[0][0]   \n__________________________________________________________________________________________________\nconv2d_6 (Conv2D)               (None, 32, 32, 64)   32832       re_lu[0][0]                      \n__________________________________________________________________________________________________\ninstance_normalization_4 (Insta (None, 32, 32, 64)   0           conv2d_6[0][0]                   \n__________________________________________________________________________________________________\nre_lu_1 (ReLU)                  (None, 32, 32, 64)   0           instance_normalization_4[0][0]   \n__________________________________________________________________________________________________\nconv2d_7 (Conv2D)               (None, 16, 16, 128)  131200      re_lu_1[0][0]                    \n__________________________________________________________________________________________________\ninstance_normalization_5 (Insta (None, 16, 16, 128)  0           conv2d_7[0][0]                   \n__________________________________________________________________________________________________\nre_lu_2 (ReLU)                  (None, 16, 16, 128)  0           instance_normalization_5[0][0]   \n__________________________________________________________________________________________________\nconv2d_8 (Conv2D)               (None, 8, 8, 256)    524544      re_lu_2[0][0]                    \n__________________________________________________________________________________________________\ninstance_normalization_6 (Insta (None, 8, 8, 256)    0           conv2d_8[0][0]                   \n__________________________________________________________________________________________________\nre_lu_3 (ReLU)                  (None, 8, 8, 256)    0           instance_normalization_6[0][0]   \n__________________________________________________________________________________________________\nup_sampling2d (UpSampling2D)    (None, 16, 16, 256)  0           re_lu_3[0][0]                    \n__________________________________________________________________________________________________\nconv2d_9 (Conv2D)               (None, 16, 16, 128)  524416      up_sampling2d[0][0]              \n__________________________________________________________________________________________________\ninstance_normalization_7 (Insta (None, 16, 16, 128)  0           conv2d_9[0][0]                   \n__________________________________________________________________________________________________\nre_lu_4 (ReLU)                  (None, 16, 16, 128)  0           instance_normalization_7[0][0]   \n__________________________________________________________________________________________________\nconcatenate (Concatenate)       (None, 16, 16, 256)  0           re_lu_4[0][0]                    \n                                                                 re_lu_2[0][0]                    \n__________________________________________________________________________________________________\nup_sampling2d_1 (UpSampling2D)  (None, 32, 32, 256)  0           concatenate[0][0]                \n__________________________________________________________________________________________________\nconv2d_10 (Conv2D)              (None, 32, 32, 64)   262208      up_sampling2d_1[0][0]            \n__________________________________________________________________________________________________\ninstance_normalization_8 (Insta (None, 32, 32, 64)   0           conv2d_10[0][0]                  \n__________________________________________________________________________________________________\nre_lu_5 (ReLU)                  (None, 32, 32, 64)   0           instance_normalization_8[0][0]   \n__________________________________________________________________________________________________\nconcatenate_1 (Concatenate)     (None, 32, 32, 128)  0           re_lu_5[0][0]                    \n                                                                 re_lu_1[0][0]                    \n__________________________________________________________________________________________________\nup_sampling2d_2 (UpSampling2D)  (None, 64, 64, 128)  0           concatenate_1[0][0]              \n__________________________________________________________________________________________________\nconv2d_11 (Conv2D)              (None, 64, 64, 32)   65568       up_sampling2d_2[0][0]            \n__________________________________________________________________________________________________\ninstance_normalization_9 (Insta (None, 64, 64, 32)   0           conv2d_11[0][0]                  \n__________________________________________________________________________________________________\nre_lu_6 (ReLU)                  (None, 64, 64, 32)   0           instance_normalization_9[0][0]   \n__________________________________________________________________________________________________\nconcatenate_2 (Concatenate)     (None, 64, 64, 64)   0           re_lu_6[0][0]                    \n                                                                 re_lu[0][0]                      \n__________________________________________________________________________________________________\nup_sampling2d_3 (UpSampling2D)  (None, 128, 128, 64) 0           concatenate_2[0][0]              \n__________________________________________________________________________________________________\nconv2d_12 (Conv2D)              (None, 128, 128, 3)  3075        up_sampling2d_3[0][0]            \n==================================================================================================\nTotal params: 1,545,411\nTrainable params: 1,545,411\nNon-trainable params: 0\n__________________________________________________________________________________________________\n"
     ]
    }
   ],
   "source": [
    "test2 = build_generator_unet()\n",
    "test2.summary()"
   ]
  },
  {
   "cell_type": "code",
   "execution_count": 8,
   "metadata": {},
   "outputs": [],
   "source": [
    "d_A = build_descriminator()\n",
    "d_B = build_descriminator()\n",
    "d_A.compile(loss = 'mse',optimizer = tf.keras.optimizers.Adam(learning_rate=0.00002,beta_1=0.5),metrics=['acc'])\n",
    "d_B.compile(loss = 'mse',optimizer = tf.keras.optimizers.Adam(learning_rate=0.00002,beta_1=0.5),metrics=['acc'])"
   ]
  },
  {
   "cell_type": "code",
   "execution_count": 9,
   "metadata": {},
   "outputs": [],
   "source": [
    "# generator G_AB, G_BA\n",
    "# A -> B,  B -> A \n",
    "# apple => orange, orange => apple\n",
    "\n",
    "g_AB = build_generator_unet()\n",
    "g_BA = build_generator_unet()\n",
    "\n",
    "d_A.trainable = False\n",
    "d_B.trainable = False\n",
    "\n",
    "#A = apple, B = orange\n",
    "img_A = Input(shape=(128,128,3))\n",
    "img_B = Input(shape=(128,128,3))\n",
    "\n",
    "fake_A = g_BA(img_A)\n",
    "fake_B = g_AB(img_B)\n",
    "\n",
    "valid_A = d_A(fake_A)\n",
    "valid_B = d_B(fake_B)\n",
    "\n",
    "reconstruct_A = g_BA(fake_B)\n",
    "reconstruct_B = g_AB(fake_A)\n",
    "\n",
    "img_A_id = g_BA(img_A)\n",
    "img_B_id = g_AB(img_B)\n",
    "\n",
    "combined = Model(inputs=[img_A,img_B],outputs=[valid_A,valid_B,reconstruct_A,reconstruct_B,img_A_id,img_B_id])\n",
    "\n",
    "combined.compile(loss=['mse','mse','mae','mae','mae','mae'],\n",
    "                 loss_weights=[1,1,10,10,2,2])"
   ]
  },
  {
   "cell_type": "code",
   "execution_count": 20,
   "metadata": {},
   "outputs": [],
   "source": [
    "def train_discriminators(imgs_A, imgs_B, valid, fake):\n",
    "\n",
    "        # Translate images to opposite domain\n",
    "        fake_B = g_AB.predict(imgs_A)\n",
    "        fake_A = g_BA.predict(imgs_B)\n",
    "\n",
    "        # Train the discriminators (original images = real / translated = Fake)\n",
    "        dA_loss_real = d_A.train_on_batch(imgs_A, valid)\n",
    "        dA_loss_fake = d_A.train_on_batch(imgs_A, fake)\n",
    "        dA_loss = 0.5 * np.add(dA_loss_real, dA_loss_fake)\n",
    "\n",
    "        dB_loss_real = d_B.train_on_batch(imgs_B, valid)\n",
    "        dB_loss_fake = d_B.train_on_batch(imgs_B, fake)\n",
    "        dB_loss = 0.5 * np.add(dB_loss_real, dB_loss_fake)\n",
    "\n",
    "        # Total disciminator loss\n",
    "        d_loss_total = 0.5 * np.add(dA_loss, dB_loss)\n",
    "\n",
    "        return (\n",
    "            d_loss_total[0]\n",
    "            , dA_loss[0], dA_loss_real[0], dA_loss_fake[0]\n",
    "            , dB_loss[0], dB_loss_real[0], dB_loss_fake[0]\n",
    "            , d_loss_total[1]\n",
    "            , dA_loss[1], dA_loss_real[1], dA_loss_fake[1]\n",
    "            , dB_loss[1], dB_loss_real[1], dB_loss_fake[1]\n",
    "        )"
   ]
  },
  {
   "cell_type": "code",
   "execution_count": 21,
   "metadata": {},
   "outputs": [],
   "source": [
    "def train_generators(imgs_A, imgs_B, valid):\n",
    "\n",
    "    return combined.train_on_batch([imgs_A, imgs_B],\n",
    "                                                [valid, valid,\n",
    "                                                imgs_A, imgs_B,\n",
    "                                                imgs_A, imgs_B])"
   ]
  },
  {
   "cell_type": "code",
   "execution_count": 22,
   "metadata": {},
   "outputs": [],
   "source": [
    "def train_normal(batch_size,img_row,epochs,print_every_n_batches = 10):\n",
    "    \n",
    "    d_lossess = []\n",
    "    g_lossess = []\n",
    "    patch = int(img_row / 2 ** 3)\n",
    "    disc_patch = (patch,patch,1)\n",
    "    \n",
    "    valid = np.ones((batch_size,) + disc_patch)\n",
    "    fake = np.zeros((batch_size,) + disc_patch)\n",
    "\n",
    "    epoch = 0\n",
    "\n",
    "    for epoch in range(epoch,epochs):\n",
    "        for i in range(100):\n",
    "\n",
    "            data_batch_A = data_A[batch_size * epoch:batch_size * epoch + 1]\n",
    "            data_batch_B = data_B[batch_size * epoch:batch_size * epoch + 1]\n",
    "            d_loss = train_discriminators(data_batch_A, data_batch_B, valid, fake)\n",
    "            g_loss = train_generators(data_batch_A, data_batch_B, valid)\n",
    "\n",
    "            if i % 10 == 0:\n",
    "                print (\"[Epoch %d/%d] [Batch %d/%d] [D loss: %f, acc: %3d%%] [G loss: %05f, adv: %05f, recon: %05f, id: %05f] \"\\\n",
    "                        % ( epoch, epochs,\n",
    "                            i, min(len(data_A),len(data_B)),\n",
    "                            d_loss[0], 100*d_loss[7],\n",
    "                            g_loss[0],\n",
    "                            np.sum(g_loss[1:3]),\n",
    "                            np.sum(g_loss[3:5]),\n",
    "                            np.sum(g_loss[5:7]),\n",
    "                            ))\n",
    "                sample_images(i)\n",
    "            d_lossess.append(d_loss)\n",
    "            g_lossess.append(g_loss)     \n",
    "        \n",
    "    return d_lossess,g_lossess         "
   ]
  },
  {
   "cell_type": "code",
   "execution_count": 23,
   "metadata": {},
   "outputs": [],
   "source": [
    "def sample_images(batch_i):\n",
    "        \n",
    "    r, c = 2, 4\n",
    "    arr = ['trainA', 'testB', 'trainB', 'testA']\n",
    "    for p in range(2):\n",
    "\n",
    "        if p == 1:\n",
    "            np.random.seed(42)\n",
    "            path_A = img_path + arr[0]\n",
    "            path_B = img_path + arr[2]\n",
    "            img_list_A = os.listdir(path_A)\n",
    "            img_list_B = os.listdir(path_B)\n",
    "            imgs_A = cv2.imread(path_A + \"/\" + img_list_A[np.random.randint(0,len(img_list_A))])\n",
    "            imgs_A = cv2.cvtColor(imgs_A,cv2.COLOR_BGR2RGB)\n",
    "            imgs_A = cv2.resize(imgs_A,(128,128),interpolation = cv2.INTER_CUBIC)\n",
    "            imgs_B = cv2.imread(path_B + \"/\" + img_list_B[np.random.randint(0,len(img_list_B))])\n",
    "            imgs_B = cv2.cvtColor(imgs_B,cv2.COLOR_BGR2RGB)\n",
    "            imgs_B = cv2.resize(imgs_B,(128,128),interpolation = cv2.INTER_CUBIC)\n",
    "        else:\n",
    "            np.random.seed(42)\n",
    "            path_A = img_path + arr[0]\n",
    "            path_B = img_path + arr[2]\n",
    "            img_list_A = os.listdir(path_A)\n",
    "            img_list_B = os.listdir(path_B)\n",
    "            imgs_A = cv2.imread(path_A + \"/\" + img_list_A[np.random.randint(0,len(img_list_A))])\n",
    "            imgs_A = cv2.cvtColor(imgs_A,cv2.COLOR_BGR2RGB)\n",
    "            imgs_A = cv2.resize(imgs_A,(128,128),interpolation = cv2.INTER_CUBIC)\n",
    "            imgs_B = cv2.imread(path_B + \"/\" + img_list_B[np.random.randint(0,len(img_list_B))])\n",
    "            imgs_B = cv2.cvtColor(imgs_B,cv2.COLOR_BGR2RGB)\n",
    "            imgs_B = cv2.resize(imgs_B,(128,128),interpolation = cv2.INTER_CUBIC)\n",
    "\n",
    "        imgs_A = imgs_A.reshape((1,128,128,3))\n",
    "        imgs_B = imgs_B.reshape((1,128,128,3))\n",
    "\n",
    "        imgs_A = imgs_A / 255.0\n",
    "        imgs_B = imgs_B / 255.0\n",
    "            # Translate images to the other domain\n",
    "        fake_B = g_AB.predict(imgs_A)\n",
    "        fake_A = g_BA.predict(imgs_B)\n",
    "            # Translate back to original domain\n",
    "        reconstr_A = g_BA.predict(fake_B)\n",
    "        reconstr_B = g_AB.predict(fake_A)\n",
    "\n",
    "            # ID the images\n",
    "        id_A = g_BA.predict(imgs_A)\n",
    "        id_B = g_AB.predict(imgs_B)\n",
    "\n",
    "        gen_imgs = np.concatenate([imgs_A, fake_B, reconstr_A, id_A, imgs_B, fake_A, reconstr_B, id_B])\n",
    "\n",
    "            # Rescale images 0 - 1\n",
    "        gen_imgs = 0.5 * gen_imgs + 0.5\n",
    "        gen_imgs = np.clip(gen_imgs, 0, 1)\n",
    "\n",
    "        titles = ['Original', 'Translated', 'Reconstructed', 'ID']\n",
    "        fig, axs = plt.subplots(r, c, figsize=(25,12.5))\n",
    "        cnt = 0\n",
    "        for i in range(r):\n",
    "            for j in range(c):\n",
    "                axs[i,j].imshow(gen_imgs[cnt])\n",
    "                axs[i, j].set_title(titles[j])\n",
    "                axs[i,j].axis('off')\n",
    "                cnt += 1\n",
    "        plt.close()"
   ]
  },
  {
   "cell_type": "code",
   "execution_count": 19,
   "metadata": {},
   "outputs": [
    {
     "output_type": "stream",
     "name": "stdout",
     "text": [
      "[Epoch 0/5] [Batch 0/995] [D loss: 0.301325, acc:   8%] [G loss: 4.091131, adv: 0.376502, recon: 0.303146, id: 0.341583] \n",
      "[Epoch 0/5] [Batch 10/995] [D loss: 0.300359, acc:   8%] [G loss: 4.337029, adv: 0.395026, recon: 0.325746, id: 0.342274] \n",
      "[Epoch 0/5] [Batch 20/995] [D loss: 0.299454, acc:   8%] [G loss: 5.007251, adv: 0.377204, recon: 0.384688, id: 0.391583] \n",
      "[Epoch 0/5] [Batch 30/995] [D loss: 0.298584, acc:   7%] [G loss: 3.664577, adv: 0.380269, recon: 0.275238, id: 0.265964] \n",
      "[Epoch 0/5] [Batch 40/995] [D loss: 0.297759, acc:   7%] [G loss: 3.351560, adv: 0.335259, recon: 0.245854, id: 0.278881] \n",
      "[Epoch 0/5] [Batch 50/995] [D loss: 0.296946, acc:   7%] [G loss: 3.768960, adv: 0.394864, recon: 0.278904, id: 0.292530] \n",
      "[Epoch 0/5] [Batch 60/995] [D loss: 0.296203, acc:   6%] [G loss: 3.076727, adv: 0.328759, recon: 0.223722, id: 0.255375] \n",
      "[Epoch 0/5] [Batch 70/995] [D loss: 0.295457, acc:   6%] [G loss: 4.539282, adv: 0.304641, recon: 0.349170, id: 0.371470] \n",
      "[Epoch 0/5] [Batch 80/995] [D loss: 0.294751, acc:   6%] [G loss: 4.853664, adv: 0.408908, recon: 0.381318, id: 0.315789] \n",
      "[Epoch 0/5] [Batch 90/995] [D loss: 0.294090, acc:   5%] [G loss: 4.460395, adv: 0.342849, recon: 0.345415, id: 0.331697] \n",
      "[Epoch 1/5] [Batch 0/995] [D loss: 0.400343, acc:  42%] [G loss: 7.238251, adv: 0.396221, recon: 0.568878, id: 0.576626] \n",
      "[Epoch 1/5] [Batch 10/995] [D loss: 0.328646, acc:  39%] [G loss: 5.257750, adv: 0.242224, recon: 0.418257, id: 0.416480] \n",
      "[Epoch 1/5] [Batch 20/995] [D loss: 0.312564, acc:  38%] [G loss: 5.980692, adv: 0.401978, recon: 0.462074, id: 0.478989] \n",
      "[Epoch 1/5] [Batch 30/995] [D loss: 0.304410, acc:  36%] [G loss: 4.573380, adv: 0.193569, recon: 0.368324, id: 0.348287] \n",
      "[Epoch 1/5] [Batch 40/995] [D loss: 0.299483, acc:  34%] [G loss: 3.900639, adv: 0.191375, recon: 0.303431, id: 0.337479] \n",
      "[Epoch 1/5] [Batch 50/995] [D loss: 0.296156, acc:  32%] [G loss: 4.414426, adv: 0.245209, recon: 0.341075, id: 0.379236] \n",
      "[Epoch 1/5] [Batch 60/995] [D loss: 0.293741, acc:  29%] [G loss: 4.149484, adv: 0.301074, recon: 0.318900, id: 0.329707] \n",
      "[Epoch 1/5] [Batch 70/995] [D loss: 0.291899, acc:  28%] [G loss: 3.513190, adv: 0.191067, recon: 0.266154, id: 0.330289] \n",
      "[Epoch 1/5] [Batch 80/995] [D loss: 0.290432, acc:  26%] [G loss: 4.200633, adv: 0.153377, recon: 0.332003, id: 0.363614] \n",
      "[Epoch 1/5] [Batch 90/995] [D loss: 0.289262, acc:  23%] [G loss: 3.629381, adv: 0.130858, recon: 0.282082, id: 0.338852] \n",
      "[Epoch 2/5] [Batch 0/995] [D loss: 0.310697, acc:  33%] [G loss: 9.419106, adv: 0.261493, recon: 0.782585, id: 0.665880] \n",
      "[Epoch 2/5] [Batch 10/995] [D loss: 0.299239, acc:  30%] [G loss: 4.076612, adv: 0.352309, recon: 0.308966, id: 0.317321] \n"
     ]
    },
    {
     "output_type": "error",
     "ename": "KeyboardInterrupt",
     "evalue": "",
     "traceback": [
      "\u001b[0;31m---------------------------------------------------------------------------\u001b[0m",
      "\u001b[0;31mKeyboardInterrupt\u001b[0m                         Traceback (most recent call last)",
      "\u001b[0;32m<ipython-input-19-f6e6466bab05>\u001b[0m in \u001b[0;36m<module>\u001b[0;34m\u001b[0m\n\u001b[0;32m----> 1\u001b[0;31m \u001b[0md_losses\u001b[0m\u001b[0;34m,\u001b[0m\u001b[0mg_losses\u001b[0m \u001b[0;34m=\u001b[0m \u001b[0mtrain_normal\u001b[0m\u001b[0;34m(\u001b[0m\u001b[0;36m1\u001b[0m\u001b[0;34m,\u001b[0m\u001b[0;36m128\u001b[0m\u001b[0;34m,\u001b[0m\u001b[0;36m5\u001b[0m\u001b[0;34m)\u001b[0m\u001b[0;34m\u001b[0m\u001b[0;34m\u001b[0m\u001b[0m\n\u001b[0m",
      "\u001b[0;32m<ipython-input-17-56d2b5548db5>\u001b[0m in \u001b[0;36mtrain_normal\u001b[0;34m(batch_size, img_row, epochs, print_every_n_batches)\u001b[0m\n\u001b[1;32m     29\u001b[0m                             \u001b[0mnp\u001b[0m\u001b[0;34m.\u001b[0m\u001b[0msum\u001b[0m\u001b[0;34m(\u001b[0m\u001b[0mg_loss\u001b[0m\u001b[0;34m[\u001b[0m\u001b[0;36m5\u001b[0m\u001b[0;34m:\u001b[0m\u001b[0;36m7\u001b[0m\u001b[0;34m]\u001b[0m\u001b[0;34m)\u001b[0m\u001b[0;34m,\u001b[0m\u001b[0;34m\u001b[0m\u001b[0;34m\u001b[0m\u001b[0m\n\u001b[1;32m     30\u001b[0m                             ))\n\u001b[0;32m---> 31\u001b[0;31m                 \u001b[0msample_images\u001b[0m\u001b[0;34m(\u001b[0m\u001b[0mi\u001b[0m\u001b[0;34m)\u001b[0m\u001b[0;34m\u001b[0m\u001b[0;34m\u001b[0m\u001b[0m\n\u001b[0m\u001b[1;32m     32\u001b[0m             \u001b[0md_lossess\u001b[0m\u001b[0;34m.\u001b[0m\u001b[0mappend\u001b[0m\u001b[0;34m(\u001b[0m\u001b[0md_loss\u001b[0m\u001b[0;34m)\u001b[0m\u001b[0;34m\u001b[0m\u001b[0;34m\u001b[0m\u001b[0m\n\u001b[1;32m     33\u001b[0m             \u001b[0mg_lossess\u001b[0m\u001b[0;34m.\u001b[0m\u001b[0mappend\u001b[0m\u001b[0;34m(\u001b[0m\u001b[0mg_loss\u001b[0m\u001b[0;34m)\u001b[0m\u001b[0;34m\u001b[0m\u001b[0;34m\u001b[0m\u001b[0m\n",
      "\u001b[0;32m<ipython-input-18-2fce077ad967>\u001b[0m in \u001b[0;36msample_images\u001b[0;34m(batch_i)\u001b[0m\n\u001b[1;32m     53\u001b[0m \u001b[0;34m\u001b[0m\u001b[0m\n\u001b[1;32m     54\u001b[0m         \u001b[0mtitles\u001b[0m \u001b[0;34m=\u001b[0m \u001b[0;34m[\u001b[0m\u001b[0;34m'Original'\u001b[0m\u001b[0;34m,\u001b[0m \u001b[0;34m'Translated'\u001b[0m\u001b[0;34m,\u001b[0m \u001b[0;34m'Reconstructed'\u001b[0m\u001b[0;34m,\u001b[0m \u001b[0;34m'ID'\u001b[0m\u001b[0;34m]\u001b[0m\u001b[0;34m\u001b[0m\u001b[0;34m\u001b[0m\u001b[0m\n\u001b[0;32m---> 55\u001b[0;31m         \u001b[0mfig\u001b[0m\u001b[0;34m,\u001b[0m \u001b[0maxs\u001b[0m \u001b[0;34m=\u001b[0m \u001b[0mplt\u001b[0m\u001b[0;34m.\u001b[0m\u001b[0msubplots\u001b[0m\u001b[0;34m(\u001b[0m\u001b[0mr\u001b[0m\u001b[0;34m,\u001b[0m \u001b[0mc\u001b[0m\u001b[0;34m,\u001b[0m \u001b[0mfigsize\u001b[0m\u001b[0;34m=\u001b[0m\u001b[0;34m(\u001b[0m\u001b[0;36m25\u001b[0m\u001b[0;34m,\u001b[0m\u001b[0;36m12.5\u001b[0m\u001b[0;34m)\u001b[0m\u001b[0;34m)\u001b[0m\u001b[0;34m\u001b[0m\u001b[0;34m\u001b[0m\u001b[0m\n\u001b[0m\u001b[1;32m     56\u001b[0m         \u001b[0mcnt\u001b[0m \u001b[0;34m=\u001b[0m \u001b[0;36m0\u001b[0m\u001b[0;34m\u001b[0m\u001b[0;34m\u001b[0m\u001b[0m\n\u001b[1;32m     57\u001b[0m         \u001b[0;32mfor\u001b[0m \u001b[0mi\u001b[0m \u001b[0;32min\u001b[0m \u001b[0mrange\u001b[0m\u001b[0;34m(\u001b[0m\u001b[0mr\u001b[0m\u001b[0;34m)\u001b[0m\u001b[0;34m:\u001b[0m\u001b[0;34m\u001b[0m\u001b[0;34m\u001b[0m\u001b[0m\n",
      "\u001b[0;32m~/bjh/py36/lib/python3.6/site-packages/matplotlib/cbook/deprecation.py\u001b[0m in \u001b[0;36mwrapper\u001b[0;34m(*args, **kwargs)\u001b[0m\n\u001b[1;32m    449\u001b[0m                 \u001b[0;34m\"parameter will become keyword-only %(removal)s.\"\u001b[0m\u001b[0;34m,\u001b[0m\u001b[0;34m\u001b[0m\u001b[0;34m\u001b[0m\u001b[0m\n\u001b[1;32m    450\u001b[0m                 name=name, obj_type=f\"parameter of {func.__name__}()\")\n\u001b[0;32m--> 451\u001b[0;31m         \u001b[0;32mreturn\u001b[0m \u001b[0mfunc\u001b[0m\u001b[0;34m(\u001b[0m\u001b[0;34m*\u001b[0m\u001b[0margs\u001b[0m\u001b[0;34m,\u001b[0m \u001b[0;34m**\u001b[0m\u001b[0mkwargs\u001b[0m\u001b[0;34m)\u001b[0m\u001b[0;34m\u001b[0m\u001b[0;34m\u001b[0m\u001b[0m\n\u001b[0m\u001b[1;32m    452\u001b[0m \u001b[0;34m\u001b[0m\u001b[0m\n\u001b[1;32m    453\u001b[0m     \u001b[0;32mreturn\u001b[0m \u001b[0mwrapper\u001b[0m\u001b[0;34m\u001b[0m\u001b[0;34m\u001b[0m\u001b[0m\n",
      "\u001b[0;32m~/bjh/py36/lib/python3.6/site-packages/matplotlib/pyplot.py\u001b[0m in \u001b[0;36msubplots\u001b[0;34m(nrows, ncols, sharex, sharey, squeeze, subplot_kw, gridspec_kw, **fig_kw)\u001b[0m\n\u001b[1;32m   1288\u001b[0m     axs = fig.subplots(nrows=nrows, ncols=ncols, sharex=sharex, sharey=sharey,\n\u001b[1;32m   1289\u001b[0m                        \u001b[0msqueeze\u001b[0m\u001b[0;34m=\u001b[0m\u001b[0msqueeze\u001b[0m\u001b[0;34m,\u001b[0m \u001b[0msubplot_kw\u001b[0m\u001b[0;34m=\u001b[0m\u001b[0msubplot_kw\u001b[0m\u001b[0;34m,\u001b[0m\u001b[0;34m\u001b[0m\u001b[0;34m\u001b[0m\u001b[0m\n\u001b[0;32m-> 1290\u001b[0;31m                        gridspec_kw=gridspec_kw)\n\u001b[0m\u001b[1;32m   1291\u001b[0m     \u001b[0;32mreturn\u001b[0m \u001b[0mfig\u001b[0m\u001b[0;34m,\u001b[0m \u001b[0maxs\u001b[0m\u001b[0;34m\u001b[0m\u001b[0;34m\u001b[0m\u001b[0m\n\u001b[1;32m   1292\u001b[0m \u001b[0;34m\u001b[0m\u001b[0m\n",
      "\u001b[0;32m~/bjh/py36/lib/python3.6/site-packages/matplotlib/cbook/deprecation.py\u001b[0m in \u001b[0;36mwrapper\u001b[0;34m(*args, **kwargs)\u001b[0m\n\u001b[1;32m    449\u001b[0m                 \u001b[0;34m\"parameter will become keyword-only %(removal)s.\"\u001b[0m\u001b[0;34m,\u001b[0m\u001b[0;34m\u001b[0m\u001b[0;34m\u001b[0m\u001b[0m\n\u001b[1;32m    450\u001b[0m                 name=name, obj_type=f\"parameter of {func.__name__}()\")\n\u001b[0;32m--> 451\u001b[0;31m         \u001b[0;32mreturn\u001b[0m \u001b[0mfunc\u001b[0m\u001b[0;34m(\u001b[0m\u001b[0;34m*\u001b[0m\u001b[0margs\u001b[0m\u001b[0;34m,\u001b[0m \u001b[0;34m**\u001b[0m\u001b[0mkwargs\u001b[0m\u001b[0;34m)\u001b[0m\u001b[0;34m\u001b[0m\u001b[0;34m\u001b[0m\u001b[0m\n\u001b[0m\u001b[1;32m    452\u001b[0m \u001b[0;34m\u001b[0m\u001b[0m\n\u001b[1;32m    453\u001b[0m     \u001b[0;32mreturn\u001b[0m \u001b[0mwrapper\u001b[0m\u001b[0;34m\u001b[0m\u001b[0;34m\u001b[0m\u001b[0m\n",
      "\u001b[0;32m~/bjh/py36/lib/python3.6/site-packages/matplotlib/figure.py\u001b[0m in \u001b[0;36msubplots\u001b[0;34m(self, nrows, ncols, sharex, sharey, squeeze, subplot_kw, gridspec_kw)\u001b[0m\n\u001b[1;32m   1522\u001b[0m         return (self.add_gridspec(nrows, ncols, figure=self, **gridspec_kw)\n\u001b[1;32m   1523\u001b[0m                 .subplots(sharex=sharex, sharey=sharey, squeeze=squeeze,\n\u001b[0;32m-> 1524\u001b[0;31m                           subplot_kw=subplot_kw))\n\u001b[0m\u001b[1;32m   1525\u001b[0m \u001b[0;34m\u001b[0m\u001b[0m\n\u001b[1;32m   1526\u001b[0m     \u001b[0;34m@\u001b[0m\u001b[0mstaticmethod\u001b[0m\u001b[0;34m\u001b[0m\u001b[0;34m\u001b[0m\u001b[0m\n",
      "\u001b[0;32m~/bjh/py36/lib/python3.6/site-packages/matplotlib/gridspec.py\u001b[0m in \u001b[0;36msubplots\u001b[0;34m(self, sharex, sharey, squeeze, subplot_kw)\u001b[0m\n\u001b[1;32m    335\u001b[0m                 \u001b[0msubplot_kw\u001b[0m\u001b[0;34m[\u001b[0m\u001b[0;34m\"sharey\"\u001b[0m\u001b[0;34m]\u001b[0m \u001b[0;34m=\u001b[0m \u001b[0mshared_with\u001b[0m\u001b[0;34m[\u001b[0m\u001b[0msharey\u001b[0m\u001b[0;34m]\u001b[0m\u001b[0;34m\u001b[0m\u001b[0;34m\u001b[0m\u001b[0m\n\u001b[1;32m    336\u001b[0m                 axarr[row, col] = figure.add_subplot(\n\u001b[0;32m--> 337\u001b[0;31m                     self[row, col], **subplot_kw)\n\u001b[0m\u001b[1;32m    338\u001b[0m \u001b[0;34m\u001b[0m\u001b[0m\n\u001b[1;32m    339\u001b[0m         \u001b[0;31m# turn off redundant tick labeling\u001b[0m\u001b[0;34m\u001b[0m\u001b[0;34m\u001b[0m\u001b[0;34m\u001b[0m\u001b[0m\n",
      "\u001b[0;32m~/bjh/py36/lib/python3.6/site-packages/matplotlib/figure.py\u001b[0m in \u001b[0;36madd_subplot\u001b[0;34m(self, *args, **kwargs)\u001b[0m\n\u001b[1;32m   1400\u001b[0m                     \u001b[0;31m# more similar to add_axes.\u001b[0m\u001b[0;34m\u001b[0m\u001b[0;34m\u001b[0m\u001b[0;34m\u001b[0m\u001b[0m\n\u001b[1;32m   1401\u001b[0m                     \u001b[0mself\u001b[0m\u001b[0;34m.\u001b[0m\u001b[0m_axstack\u001b[0m\u001b[0;34m.\u001b[0m\u001b[0mremove\u001b[0m\u001b[0;34m(\u001b[0m\u001b[0max\u001b[0m\u001b[0;34m)\u001b[0m\u001b[0;34m\u001b[0m\u001b[0;34m\u001b[0m\u001b[0m\n\u001b[0;32m-> 1402\u001b[0;31m             \u001b[0max\u001b[0m \u001b[0;34m=\u001b[0m \u001b[0msubplot_class_factory\u001b[0m\u001b[0;34m(\u001b[0m\u001b[0mprojection_class\u001b[0m\u001b[0;34m)\u001b[0m\u001b[0;34m(\u001b[0m\u001b[0mself\u001b[0m\u001b[0;34m,\u001b[0m \u001b[0;34m*\u001b[0m\u001b[0margs\u001b[0m\u001b[0;34m,\u001b[0m \u001b[0;34m**\u001b[0m\u001b[0mkwargs\u001b[0m\u001b[0;34m)\u001b[0m\u001b[0;34m\u001b[0m\u001b[0;34m\u001b[0m\u001b[0m\n\u001b[0m\u001b[1;32m   1403\u001b[0m \u001b[0;34m\u001b[0m\u001b[0m\n\u001b[1;32m   1404\u001b[0m         \u001b[0;32mreturn\u001b[0m \u001b[0mself\u001b[0m\u001b[0;34m.\u001b[0m\u001b[0m_add_axes_internal\u001b[0m\u001b[0;34m(\u001b[0m\u001b[0mkey\u001b[0m\u001b[0;34m,\u001b[0m \u001b[0max\u001b[0m\u001b[0;34m)\u001b[0m\u001b[0;34m\u001b[0m\u001b[0;34m\u001b[0m\u001b[0m\n",
      "\u001b[0;32m~/bjh/py36/lib/python3.6/site-packages/matplotlib/axes/_subplots.py\u001b[0m in \u001b[0;36m__init__\u001b[0;34m(self, fig, *args, **kwargs)\u001b[0m\n\u001b[1;32m     40\u001b[0m         \u001b[0mself\u001b[0m\u001b[0;34m.\u001b[0m\u001b[0mupdate_params\u001b[0m\u001b[0;34m(\u001b[0m\u001b[0;34m)\u001b[0m\u001b[0;34m\u001b[0m\u001b[0;34m\u001b[0m\u001b[0m\n\u001b[1;32m     41\u001b[0m         \u001b[0;31m# _axes_class is set in the subplot_class_factory\u001b[0m\u001b[0;34m\u001b[0m\u001b[0;34m\u001b[0m\u001b[0;34m\u001b[0m\u001b[0m\n\u001b[0;32m---> 42\u001b[0;31m         \u001b[0mself\u001b[0m\u001b[0;34m.\u001b[0m\u001b[0m_axes_class\u001b[0m\u001b[0;34m.\u001b[0m\u001b[0m__init__\u001b[0m\u001b[0;34m(\u001b[0m\u001b[0mself\u001b[0m\u001b[0;34m,\u001b[0m \u001b[0mfig\u001b[0m\u001b[0;34m,\u001b[0m \u001b[0mself\u001b[0m\u001b[0;34m.\u001b[0m\u001b[0mfigbox\u001b[0m\u001b[0;34m,\u001b[0m \u001b[0;34m**\u001b[0m\u001b[0mkwargs\u001b[0m\u001b[0;34m)\u001b[0m\u001b[0;34m\u001b[0m\u001b[0;34m\u001b[0m\u001b[0m\n\u001b[0m\u001b[1;32m     43\u001b[0m         \u001b[0;31m# add a layout box to this, for both the full axis, and the poss\u001b[0m\u001b[0;34m\u001b[0m\u001b[0;34m\u001b[0m\u001b[0;34m\u001b[0m\u001b[0m\n\u001b[1;32m     44\u001b[0m         \u001b[0;31m# of the axis.  We need both because the axes may become smaller\u001b[0m\u001b[0;34m\u001b[0m\u001b[0;34m\u001b[0m\u001b[0;34m\u001b[0m\u001b[0m\n",
      "\u001b[0;32m~/bjh/py36/lib/python3.6/site-packages/matplotlib/axes/_base.py\u001b[0m in \u001b[0;36m__init__\u001b[0;34m(self, fig, rect, facecolor, frameon, sharex, sharey, label, xscale, yscale, box_aspect, **kwargs)\u001b[0m\n\u001b[1;32m    501\u001b[0m \u001b[0;34m\u001b[0m\u001b[0m\n\u001b[1;32m    502\u001b[0m         \u001b[0;31m# this call may differ for non-sep axes, e.g., polar\u001b[0m\u001b[0;34m\u001b[0m\u001b[0;34m\u001b[0m\u001b[0;34m\u001b[0m\u001b[0m\n\u001b[0;32m--> 503\u001b[0;31m         \u001b[0mself\u001b[0m\u001b[0;34m.\u001b[0m\u001b[0m_init_axis\u001b[0m\u001b[0;34m(\u001b[0m\u001b[0;34m)\u001b[0m\u001b[0;34m\u001b[0m\u001b[0;34m\u001b[0m\u001b[0m\n\u001b[0m\u001b[1;32m    504\u001b[0m         \u001b[0;32mif\u001b[0m \u001b[0mfacecolor\u001b[0m \u001b[0;32mis\u001b[0m \u001b[0;32mNone\u001b[0m\u001b[0;34m:\u001b[0m\u001b[0;34m\u001b[0m\u001b[0;34m\u001b[0m\u001b[0m\n\u001b[1;32m    505\u001b[0m             \u001b[0mfacecolor\u001b[0m \u001b[0;34m=\u001b[0m \u001b[0mmpl\u001b[0m\u001b[0;34m.\u001b[0m\u001b[0mrcParams\u001b[0m\u001b[0;34m[\u001b[0m\u001b[0;34m'axes.facecolor'\u001b[0m\u001b[0;34m]\u001b[0m\u001b[0;34m\u001b[0m\u001b[0;34m\u001b[0m\u001b[0m\n",
      "\u001b[0;32m~/bjh/py36/lib/python3.6/site-packages/matplotlib/axes/_base.py\u001b[0m in \u001b[0;36m_init_axis\u001b[0;34m(self)\u001b[0m\n\u001b[1;32m    614\u001b[0m         \u001b[0mself\u001b[0m\u001b[0;34m.\u001b[0m\u001b[0mspines\u001b[0m\u001b[0;34m[\u001b[0m\u001b[0;34m'bottom'\u001b[0m\u001b[0;34m]\u001b[0m\u001b[0;34m.\u001b[0m\u001b[0mregister_axis\u001b[0m\u001b[0;34m(\u001b[0m\u001b[0mself\u001b[0m\u001b[0;34m.\u001b[0m\u001b[0mxaxis\u001b[0m\u001b[0;34m)\u001b[0m\u001b[0;34m\u001b[0m\u001b[0;34m\u001b[0m\u001b[0m\n\u001b[1;32m    615\u001b[0m         \u001b[0mself\u001b[0m\u001b[0;34m.\u001b[0m\u001b[0mspines\u001b[0m\u001b[0;34m[\u001b[0m\u001b[0;34m'top'\u001b[0m\u001b[0;34m]\u001b[0m\u001b[0;34m.\u001b[0m\u001b[0mregister_axis\u001b[0m\u001b[0;34m(\u001b[0m\u001b[0mself\u001b[0m\u001b[0;34m.\u001b[0m\u001b[0mxaxis\u001b[0m\u001b[0;34m)\u001b[0m\u001b[0;34m\u001b[0m\u001b[0;34m\u001b[0m\u001b[0m\n\u001b[0;32m--> 616\u001b[0;31m         \u001b[0mself\u001b[0m\u001b[0;34m.\u001b[0m\u001b[0myaxis\u001b[0m \u001b[0;34m=\u001b[0m \u001b[0mmaxis\u001b[0m\u001b[0;34m.\u001b[0m\u001b[0mYAxis\u001b[0m\u001b[0;34m(\u001b[0m\u001b[0mself\u001b[0m\u001b[0;34m)\u001b[0m\u001b[0;34m\u001b[0m\u001b[0;34m\u001b[0m\u001b[0m\n\u001b[0m\u001b[1;32m    617\u001b[0m         \u001b[0mself\u001b[0m\u001b[0;34m.\u001b[0m\u001b[0mspines\u001b[0m\u001b[0;34m[\u001b[0m\u001b[0;34m'left'\u001b[0m\u001b[0;34m]\u001b[0m\u001b[0;34m.\u001b[0m\u001b[0mregister_axis\u001b[0m\u001b[0;34m(\u001b[0m\u001b[0mself\u001b[0m\u001b[0;34m.\u001b[0m\u001b[0myaxis\u001b[0m\u001b[0;34m)\u001b[0m\u001b[0;34m\u001b[0m\u001b[0;34m\u001b[0m\u001b[0m\n\u001b[1;32m    618\u001b[0m         \u001b[0mself\u001b[0m\u001b[0;34m.\u001b[0m\u001b[0mspines\u001b[0m\u001b[0;34m[\u001b[0m\u001b[0;34m'right'\u001b[0m\u001b[0;34m]\u001b[0m\u001b[0;34m.\u001b[0m\u001b[0mregister_axis\u001b[0m\u001b[0;34m(\u001b[0m\u001b[0mself\u001b[0m\u001b[0;34m.\u001b[0m\u001b[0myaxis\u001b[0m\u001b[0;34m)\u001b[0m\u001b[0;34m\u001b[0m\u001b[0;34m\u001b[0m\u001b[0m\n",
      "\u001b[0;32m~/bjh/py36/lib/python3.6/site-packages/matplotlib/axis.py\u001b[0m in \u001b[0;36m__init__\u001b[0;34m(self, *args, **kwargs)\u001b[0m\n\u001b[1;32m   2259\u001b[0m \u001b[0;34m\u001b[0m\u001b[0m\n\u001b[1;32m   2260\u001b[0m     \u001b[0;32mdef\u001b[0m \u001b[0m__init__\u001b[0m\u001b[0;34m(\u001b[0m\u001b[0mself\u001b[0m\u001b[0;34m,\u001b[0m \u001b[0;34m*\u001b[0m\u001b[0margs\u001b[0m\u001b[0;34m,\u001b[0m \u001b[0;34m**\u001b[0m\u001b[0mkwargs\u001b[0m\u001b[0;34m)\u001b[0m\u001b[0;34m:\u001b[0m\u001b[0;34m\u001b[0m\u001b[0;34m\u001b[0m\u001b[0m\n\u001b[0;32m-> 2261\u001b[0;31m         \u001b[0msuper\u001b[0m\u001b[0;34m(\u001b[0m\u001b[0;34m)\u001b[0m\u001b[0;34m.\u001b[0m\u001b[0m__init__\u001b[0m\u001b[0;34m(\u001b[0m\u001b[0;34m*\u001b[0m\u001b[0margs\u001b[0m\u001b[0;34m,\u001b[0m \u001b[0;34m**\u001b[0m\u001b[0mkwargs\u001b[0m\u001b[0;34m)\u001b[0m\u001b[0;34m\u001b[0m\u001b[0;34m\u001b[0m\u001b[0m\n\u001b[0m\u001b[1;32m   2262\u001b[0m         \u001b[0;31m# x in display coords, y in axes coords (to be updated at draw time by\u001b[0m\u001b[0;34m\u001b[0m\u001b[0;34m\u001b[0m\u001b[0;34m\u001b[0m\u001b[0m\n\u001b[1;32m   2263\u001b[0m         \u001b[0;31m# _update_label_positions and _update_offset_text_position).\u001b[0m\u001b[0;34m\u001b[0m\u001b[0;34m\u001b[0m\u001b[0;34m\u001b[0m\u001b[0m\n",
      "\u001b[0;32m~/bjh/py36/lib/python3.6/site-packages/matplotlib/axis.py\u001b[0m in \u001b[0;36m__init__\u001b[0;34m(self, axes, pickradius)\u001b[0m\n\u001b[1;32m    705\u001b[0m         \u001b[0mself\u001b[0m\u001b[0;34m.\u001b[0m\u001b[0m_minor_tick_kw\u001b[0m \u001b[0;34m=\u001b[0m \u001b[0mdict\u001b[0m\u001b[0;34m(\u001b[0m\u001b[0;34m)\u001b[0m\u001b[0;34m\u001b[0m\u001b[0;34m\u001b[0m\u001b[0m\n\u001b[1;32m    706\u001b[0m \u001b[0;34m\u001b[0m\u001b[0m\n\u001b[0;32m--> 707\u001b[0;31m         \u001b[0mself\u001b[0m\u001b[0;34m.\u001b[0m\u001b[0mcla\u001b[0m\u001b[0;34m(\u001b[0m\u001b[0;34m)\u001b[0m\u001b[0;34m\u001b[0m\u001b[0;34m\u001b[0m\u001b[0m\n\u001b[0m\u001b[1;32m    708\u001b[0m         \u001b[0mself\u001b[0m\u001b[0;34m.\u001b[0m\u001b[0m_set_scale\u001b[0m\u001b[0;34m(\u001b[0m\u001b[0;34m'linear'\u001b[0m\u001b[0;34m)\u001b[0m\u001b[0;34m\u001b[0m\u001b[0;34m\u001b[0m\u001b[0m\n\u001b[1;32m    709\u001b[0m \u001b[0;34m\u001b[0m\u001b[0m\n",
      "\u001b[0;32m~/bjh/py36/lib/python3.6/site-packages/matplotlib/axis.py\u001b[0m in \u001b[0;36mcla\u001b[0;34m(self)\u001b[0m\n\u001b[1;32m    773\u001b[0m         \u001b[0mself\u001b[0m\u001b[0;34m.\u001b[0m\u001b[0mlabel\u001b[0m\u001b[0;34m.\u001b[0m\u001b[0mset_text\u001b[0m\u001b[0;34m(\u001b[0m\u001b[0;34m''\u001b[0m\u001b[0;34m)\u001b[0m  \u001b[0;31m# self.set_label_text would change isDefault_\u001b[0m\u001b[0;34m\u001b[0m\u001b[0;34m\u001b[0m\u001b[0m\n\u001b[1;32m    774\u001b[0m \u001b[0;34m\u001b[0m\u001b[0m\n\u001b[0;32m--> 775\u001b[0;31m         \u001b[0mself\u001b[0m\u001b[0;34m.\u001b[0m\u001b[0m_set_scale\u001b[0m\u001b[0;34m(\u001b[0m\u001b[0;34m'linear'\u001b[0m\u001b[0;34m)\u001b[0m\u001b[0;34m\u001b[0m\u001b[0;34m\u001b[0m\u001b[0m\n\u001b[0m\u001b[1;32m    776\u001b[0m \u001b[0;34m\u001b[0m\u001b[0m\n\u001b[1;32m    777\u001b[0m         \u001b[0;31m# Clear the callback registry for this axis, or it may \"leak\"\u001b[0m\u001b[0;34m\u001b[0m\u001b[0;34m\u001b[0m\u001b[0;34m\u001b[0m\u001b[0m\n",
      "\u001b[0;32m~/bjh/py36/lib/python3.6/site-packages/matplotlib/axis.py\u001b[0m in \u001b[0;36m_set_scale\u001b[0;34m(self, value, **kwargs)\u001b[0m\n\u001b[1;32m    754\u001b[0m     \u001b[0;32mdef\u001b[0m \u001b[0m_set_scale\u001b[0m\u001b[0;34m(\u001b[0m\u001b[0mself\u001b[0m\u001b[0;34m,\u001b[0m \u001b[0mvalue\u001b[0m\u001b[0;34m,\u001b[0m \u001b[0;34m**\u001b[0m\u001b[0mkwargs\u001b[0m\u001b[0;34m)\u001b[0m\u001b[0;34m:\u001b[0m\u001b[0;34m\u001b[0m\u001b[0;34m\u001b[0m\u001b[0m\n\u001b[1;32m    755\u001b[0m         \u001b[0mself\u001b[0m\u001b[0;34m.\u001b[0m\u001b[0m_scale\u001b[0m \u001b[0;34m=\u001b[0m \u001b[0mmscale\u001b[0m\u001b[0;34m.\u001b[0m\u001b[0mscale_factory\u001b[0m\u001b[0;34m(\u001b[0m\u001b[0mvalue\u001b[0m\u001b[0;34m,\u001b[0m \u001b[0mself\u001b[0m\u001b[0;34m,\u001b[0m \u001b[0;34m**\u001b[0m\u001b[0mkwargs\u001b[0m\u001b[0;34m)\u001b[0m\u001b[0;34m\u001b[0m\u001b[0;34m\u001b[0m\u001b[0m\n\u001b[0;32m--> 756\u001b[0;31m         \u001b[0mself\u001b[0m\u001b[0;34m.\u001b[0m\u001b[0m_scale\u001b[0m\u001b[0;34m.\u001b[0m\u001b[0mset_default_locators_and_formatters\u001b[0m\u001b[0;34m(\u001b[0m\u001b[0mself\u001b[0m\u001b[0;34m)\u001b[0m\u001b[0;34m\u001b[0m\u001b[0;34m\u001b[0m\u001b[0m\n\u001b[0m\u001b[1;32m    757\u001b[0m \u001b[0;34m\u001b[0m\u001b[0m\n\u001b[1;32m    758\u001b[0m         \u001b[0mself\u001b[0m\u001b[0;34m.\u001b[0m\u001b[0misDefault_majloc\u001b[0m \u001b[0;34m=\u001b[0m \u001b[0;32mTrue\u001b[0m\u001b[0;34m\u001b[0m\u001b[0;34m\u001b[0m\u001b[0m\n",
      "\u001b[0;32m~/bjh/py36/lib/python3.6/site-packages/matplotlib/scale.py\u001b[0m in \u001b[0;36mset_default_locators_and_formatters\u001b[0;34m(self, axis)\u001b[0m\n\u001b[1;32m    106\u001b[0m     \u001b[0;32mdef\u001b[0m \u001b[0mset_default_locators_and_formatters\u001b[0m\u001b[0;34m(\u001b[0m\u001b[0mself\u001b[0m\u001b[0;34m,\u001b[0m \u001b[0maxis\u001b[0m\u001b[0;34m)\u001b[0m\u001b[0;34m:\u001b[0m\u001b[0;34m\u001b[0m\u001b[0;34m\u001b[0m\u001b[0m\n\u001b[1;32m    107\u001b[0m         \u001b[0;31m# docstring inherited\u001b[0m\u001b[0;34m\u001b[0m\u001b[0;34m\u001b[0m\u001b[0;34m\u001b[0m\u001b[0m\n\u001b[0;32m--> 108\u001b[0;31m         \u001b[0maxis\u001b[0m\u001b[0;34m.\u001b[0m\u001b[0mset_major_locator\u001b[0m\u001b[0;34m(\u001b[0m\u001b[0mAutoLocator\u001b[0m\u001b[0;34m(\u001b[0m\u001b[0;34m)\u001b[0m\u001b[0;34m)\u001b[0m\u001b[0;34m\u001b[0m\u001b[0;34m\u001b[0m\u001b[0m\n\u001b[0m\u001b[1;32m    109\u001b[0m         \u001b[0maxis\u001b[0m\u001b[0;34m.\u001b[0m\u001b[0mset_major_formatter\u001b[0m\u001b[0;34m(\u001b[0m\u001b[0mScalarFormatter\u001b[0m\u001b[0;34m(\u001b[0m\u001b[0;34m)\u001b[0m\u001b[0;34m)\u001b[0m\u001b[0;34m\u001b[0m\u001b[0;34m\u001b[0m\u001b[0m\n\u001b[1;32m    110\u001b[0m         \u001b[0maxis\u001b[0m\u001b[0;34m.\u001b[0m\u001b[0mset_minor_formatter\u001b[0m\u001b[0;34m(\u001b[0m\u001b[0mNullFormatter\u001b[0m\u001b[0;34m(\u001b[0m\u001b[0;34m)\u001b[0m\u001b[0;34m)\u001b[0m\u001b[0;34m\u001b[0m\u001b[0;34m\u001b[0m\u001b[0m\n",
      "\u001b[0;32m~/bjh/py36/lib/python3.6/site-packages/matplotlib/ticker.py\u001b[0m in \u001b[0;36m__init__\u001b[0;34m(self)\u001b[0m\n\u001b[1;32m   2905\u001b[0m             \u001b[0mnbins\u001b[0m \u001b[0;34m=\u001b[0m \u001b[0;34m'auto'\u001b[0m\u001b[0;34m\u001b[0m\u001b[0;34m\u001b[0m\u001b[0m\n\u001b[1;32m   2906\u001b[0m             \u001b[0msteps\u001b[0m \u001b[0;34m=\u001b[0m \u001b[0;34m[\u001b[0m\u001b[0;36m1\u001b[0m\u001b[0;34m,\u001b[0m \u001b[0;36m2\u001b[0m\u001b[0;34m,\u001b[0m \u001b[0;36m2.5\u001b[0m\u001b[0;34m,\u001b[0m \u001b[0;36m5\u001b[0m\u001b[0;34m,\u001b[0m \u001b[0;36m10\u001b[0m\u001b[0;34m]\u001b[0m\u001b[0;34m\u001b[0m\u001b[0;34m\u001b[0m\u001b[0m\n\u001b[0;32m-> 2907\u001b[0;31m         \u001b[0mMaxNLocator\u001b[0m\u001b[0;34m.\u001b[0m\u001b[0m__init__\u001b[0m\u001b[0;34m(\u001b[0m\u001b[0mself\u001b[0m\u001b[0;34m,\u001b[0m \u001b[0mnbins\u001b[0m\u001b[0;34m=\u001b[0m\u001b[0mnbins\u001b[0m\u001b[0;34m,\u001b[0m \u001b[0msteps\u001b[0m\u001b[0;34m=\u001b[0m\u001b[0msteps\u001b[0m\u001b[0;34m)\u001b[0m\u001b[0;34m\u001b[0m\u001b[0;34m\u001b[0m\u001b[0m\n\u001b[0m\u001b[1;32m   2908\u001b[0m \u001b[0;34m\u001b[0m\u001b[0m\n\u001b[1;32m   2909\u001b[0m \u001b[0;34m\u001b[0m\u001b[0m\n",
      "\u001b[0;32m~/bjh/py36/lib/python3.6/site-packages/matplotlib/ticker.py\u001b[0m in \u001b[0;36m__init__\u001b[0;34m(self, *args, **kwargs)\u001b[0m\n\u001b[1;32m   2142\u001b[0m                 raise ValueError(\n\u001b[1;32m   2143\u001b[0m                     \"Keywords are required for all arguments except 'nbins'\")\n\u001b[0;32m-> 2144\u001b[0;31m         \u001b[0mself\u001b[0m\u001b[0;34m.\u001b[0m\u001b[0mset_params\u001b[0m\u001b[0;34m(\u001b[0m\u001b[0;34m**\u001b[0m\u001b[0;34m{\u001b[0m\u001b[0;34m**\u001b[0m\u001b[0mself\u001b[0m\u001b[0;34m.\u001b[0m\u001b[0mdefault_params\u001b[0m\u001b[0;34m,\u001b[0m \u001b[0;34m**\u001b[0m\u001b[0mkwargs\u001b[0m\u001b[0;34m}\u001b[0m\u001b[0;34m)\u001b[0m\u001b[0;34m\u001b[0m\u001b[0;34m\u001b[0m\u001b[0m\n\u001b[0m\u001b[1;32m   2145\u001b[0m \u001b[0;34m\u001b[0m\u001b[0m\n\u001b[1;32m   2146\u001b[0m     \u001b[0;34m@\u001b[0m\u001b[0mstaticmethod\u001b[0m\u001b[0;34m\u001b[0m\u001b[0;34m\u001b[0m\u001b[0m\n",
      "\u001b[0;32m~/bjh/py36/lib/python3.6/site-packages/matplotlib/ticker.py\u001b[0m in \u001b[0;36mset_params\u001b[0;34m(self, **kwargs)\u001b[0m\n\u001b[1;32m   2204\u001b[0m             \u001b[0;32melse\u001b[0m\u001b[0;34m:\u001b[0m\u001b[0;34m\u001b[0m\u001b[0;34m\u001b[0m\u001b[0m\n\u001b[1;32m   2205\u001b[0m                 \u001b[0mself\u001b[0m\u001b[0;34m.\u001b[0m\u001b[0m_steps\u001b[0m \u001b[0;34m=\u001b[0m \u001b[0mself\u001b[0m\u001b[0;34m.\u001b[0m\u001b[0m_validate_steps\u001b[0m\u001b[0;34m(\u001b[0m\u001b[0msteps\u001b[0m\u001b[0;34m)\u001b[0m\u001b[0;34m\u001b[0m\u001b[0;34m\u001b[0m\u001b[0m\n\u001b[0;32m-> 2206\u001b[0;31m             \u001b[0mself\u001b[0m\u001b[0;34m.\u001b[0m\u001b[0m_extended_steps\u001b[0m \u001b[0;34m=\u001b[0m \u001b[0mself\u001b[0m\u001b[0;34m.\u001b[0m\u001b[0m_staircase\u001b[0m\u001b[0;34m(\u001b[0m\u001b[0mself\u001b[0m\u001b[0;34m.\u001b[0m\u001b[0m_steps\u001b[0m\u001b[0;34m)\u001b[0m\u001b[0;34m\u001b[0m\u001b[0;34m\u001b[0m\u001b[0m\n\u001b[0m\u001b[1;32m   2207\u001b[0m         \u001b[0;32mif\u001b[0m \u001b[0;34m'integer'\u001b[0m \u001b[0;32min\u001b[0m \u001b[0mkwargs\u001b[0m\u001b[0;34m:\u001b[0m\u001b[0;34m\u001b[0m\u001b[0;34m\u001b[0m\u001b[0m\n\u001b[1;32m   2208\u001b[0m             \u001b[0mself\u001b[0m\u001b[0;34m.\u001b[0m\u001b[0m_integer\u001b[0m \u001b[0;34m=\u001b[0m \u001b[0mkwargs\u001b[0m\u001b[0;34m.\u001b[0m\u001b[0mpop\u001b[0m\u001b[0;34m(\u001b[0m\u001b[0;34m'integer'\u001b[0m\u001b[0;34m)\u001b[0m\u001b[0;34m\u001b[0m\u001b[0;34m\u001b[0m\u001b[0m\n",
      "\u001b[0;32m~/bjh/py36/lib/python3.6/site-packages/matplotlib/ticker.py\u001b[0m in \u001b[0;36m_staircase\u001b[0;34m(steps)\u001b[0m\n\u001b[1;32m   2165\u001b[0m         \u001b[0;31m# than necessary.\u001b[0m\u001b[0;34m\u001b[0m\u001b[0;34m\u001b[0m\u001b[0;34m\u001b[0m\u001b[0m\n\u001b[1;32m   2166\u001b[0m         \u001b[0mflights\u001b[0m \u001b[0;34m=\u001b[0m \u001b[0;34m(\u001b[0m\u001b[0;36m0.1\u001b[0m \u001b[0;34m*\u001b[0m \u001b[0msteps\u001b[0m\u001b[0;34m[\u001b[0m\u001b[0;34m:\u001b[0m\u001b[0;34m-\u001b[0m\u001b[0;36m1\u001b[0m\u001b[0;34m]\u001b[0m\u001b[0;34m,\u001b[0m \u001b[0msteps\u001b[0m\u001b[0;34m,\u001b[0m \u001b[0;36m10\u001b[0m \u001b[0;34m*\u001b[0m \u001b[0msteps\u001b[0m\u001b[0;34m[\u001b[0m\u001b[0;36m1\u001b[0m\u001b[0;34m]\u001b[0m\u001b[0;34m)\u001b[0m\u001b[0;34m\u001b[0m\u001b[0;34m\u001b[0m\u001b[0m\n\u001b[0;32m-> 2167\u001b[0;31m         \u001b[0;32mreturn\u001b[0m \u001b[0mnp\u001b[0m\u001b[0;34m.\u001b[0m\u001b[0mhstack\u001b[0m\u001b[0;34m(\u001b[0m\u001b[0mflights\u001b[0m\u001b[0;34m)\u001b[0m\u001b[0;34m\u001b[0m\u001b[0;34m\u001b[0m\u001b[0m\n\u001b[0m\u001b[1;32m   2168\u001b[0m \u001b[0;34m\u001b[0m\u001b[0m\n\u001b[1;32m   2169\u001b[0m     \u001b[0;32mdef\u001b[0m \u001b[0mset_params\u001b[0m\u001b[0;34m(\u001b[0m\u001b[0mself\u001b[0m\u001b[0;34m,\u001b[0m \u001b[0;34m**\u001b[0m\u001b[0mkwargs\u001b[0m\u001b[0;34m)\u001b[0m\u001b[0;34m:\u001b[0m\u001b[0;34m\u001b[0m\u001b[0;34m\u001b[0m\u001b[0m\n",
      "\u001b[0;32m<__array_function__ internals>\u001b[0m in \u001b[0;36mhstack\u001b[0;34m(*args, **kwargs)\u001b[0m\n",
      "\u001b[0;32m~/bjh/py36/lib/python3.6/site-packages/numpy/core/shape_base.py\u001b[0m in \u001b[0;36mhstack\u001b[0;34m(tup)\u001b[0m\n\u001b[1;32m    337\u001b[0m         \u001b[0m_arrays_for_stack_dispatcher\u001b[0m\u001b[0;34m(\u001b[0m\u001b[0mtup\u001b[0m\u001b[0;34m,\u001b[0m \u001b[0mstacklevel\u001b[0m\u001b[0;34m=\u001b[0m\u001b[0;36m2\u001b[0m\u001b[0;34m)\u001b[0m\u001b[0;34m\u001b[0m\u001b[0;34m\u001b[0m\u001b[0m\n\u001b[1;32m    338\u001b[0m \u001b[0;34m\u001b[0m\u001b[0m\n\u001b[0;32m--> 339\u001b[0;31m     \u001b[0marrs\u001b[0m \u001b[0;34m=\u001b[0m \u001b[0matleast_1d\u001b[0m\u001b[0;34m(\u001b[0m\u001b[0;34m*\u001b[0m\u001b[0mtup\u001b[0m\u001b[0;34m)\u001b[0m\u001b[0;34m\u001b[0m\u001b[0;34m\u001b[0m\u001b[0m\n\u001b[0m\u001b[1;32m    340\u001b[0m     \u001b[0;32mif\u001b[0m \u001b[0;32mnot\u001b[0m \u001b[0misinstance\u001b[0m\u001b[0;34m(\u001b[0m\u001b[0marrs\u001b[0m\u001b[0;34m,\u001b[0m \u001b[0mlist\u001b[0m\u001b[0;34m)\u001b[0m\u001b[0;34m:\u001b[0m\u001b[0;34m\u001b[0m\u001b[0;34m\u001b[0m\u001b[0m\n\u001b[1;32m    341\u001b[0m         \u001b[0marrs\u001b[0m \u001b[0;34m=\u001b[0m \u001b[0;34m[\u001b[0m\u001b[0marrs\u001b[0m\u001b[0;34m]\u001b[0m\u001b[0;34m\u001b[0m\u001b[0;34m\u001b[0m\u001b[0m\n",
      "\u001b[0;32m<__array_function__ internals>\u001b[0m in \u001b[0;36matleast_1d\u001b[0;34m(*args, **kwargs)\u001b[0m\n",
      "\u001b[0;31mKeyboardInterrupt\u001b[0m: "
     ]
    }
   ],
   "source": [
    "d_losses,g_losses = train_normal(1,128,5)"
   ]
  },
  {
   "cell_type": "code",
   "execution_count": null,
   "metadata": {},
   "outputs": [],
   "source": []
  }
 ]
}